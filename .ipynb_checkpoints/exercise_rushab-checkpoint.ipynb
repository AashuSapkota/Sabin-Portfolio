{
 "cells": [
  {
   "cell_type": "code",
   "execution_count": 18,
   "id": "57812a15-f0c8-4206-b745-cb506f87be78",
   "metadata": {},
   "outputs": [
    {
     "name": "stdin",
     "output_type": "stream",
     "text": [
      "Convert from Celsius to Fahrenheit or vice versa \n",
      "\n",
      "\t Press C to covert from celsius to fahrenheit:\n",
      "\t Press F to convert from Fahrenheit to Celsius: \n",
      " c\n",
      "Enter the temperature:  37\n"
     ]
    },
    {
     "name": "stdout",
     "output_type": "stream",
     "text": [
      "37.0 C == 99 F\n"
     ]
    }
   ],
   "source": [
    "case = input('''Convert from Celsius to Fahrenheit or vice versa \\n\n",
    "\\t Press C to covert from celsius to fahrenheit:\n",
    "\\t Press F to convert from Fahrenheit to Celsius: \\n''').lower()\n",
    "\n",
    "\n",
    "\n",
    "if case == 'c' or case == 'f':\n",
    "    temperature = float(input('Enter the temperature: '))\n",
    "    if case == 'c':\n",
    "        converted_temp = round((temperature * 1.8) + 32)\n",
    "        print(str(temperature)+' C == '+ str(converted_temp) +' F')\n",
    "    elif case == 'f':\n",
    "        converted_temp = round((temperature - 32) / 1.8)\n",
    "        print(str(temperature) + ' F == ' + str(converted_temp) + ' C')\n",
    "else:\n",
    "    print('Incorrect Request. Program complies with given options only.')"
   ]
  },
  {
   "cell_type": "code",
   "execution_count": null,
   "id": "c267eae9-a90a-4e45-8923-ffdf77e7ca3f",
   "metadata": {},
   "outputs": [],
   "source": []
  }
 ],
 "metadata": {
  "kernelspec": {
   "display_name": "Python 3 (ipykernel)",
   "language": "python",
   "name": "python3"
  },
  "language_info": {
   "codemirror_mode": {
    "name": "ipython",
    "version": 3
   },
   "file_extension": ".py",
   "mimetype": "text/x-python",
   "name": "python",
   "nbconvert_exporter": "python",
   "pygments_lexer": "ipython3",
   "version": "3.9.7"
  }
 },
 "nbformat": 4,
 "nbformat_minor": 5
}
