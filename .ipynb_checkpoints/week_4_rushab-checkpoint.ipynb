{
 "cells": [
  {
   "cell_type": "code",
   "execution_count": 1,
   "id": "a725adc8-8ffa-4468-9db9-8847c4a63e17",
   "metadata": {},
   "outputs": [
    {
     "name": "stdout",
     "output_type": "stream",
     "text": [
      "*** Introductory Examples for the NLTK Book ***\n",
      "Loading text1, ..., text9 and sent1, ..., sent9\n",
      "Type the name of the text or sentence to view it.\n",
      "Type: 'texts()' or 'sents()' to list the materials.\n",
      "text1: Moby Dick by Herman Melville 1851\n",
      "text2: Sense and Sensibility by Jane Austen 1811\n",
      "text3: The Book of Genesis\n",
      "text4: Inaugural Address Corpus\n",
      "text5: Chat Corpus\n",
      "text6: Monty Python and the Holy Grail\n",
      "text7: Wall Street Journal\n",
      "text8: Personals Corpus\n",
      "text9: The Man Who Was Thursday by G . K . Chesterton 1908\n"
     ]
    }
   ],
   "source": [
    "from nltk.book import *"
   ]
  },
  {
   "cell_type": "code",
   "execution_count": 2,
   "id": "8df75297-9729-4085-b7e8-cfe76a413c74",
   "metadata": {},
   "outputs": [
    {
     "name": "stdout",
     "output_type": "stream",
     "text": [
      "Displaying 25 of 822 matches:\n",
      "ast PART 24 / m boo . 26 / m and sexy lol U115 boo . JOIN PART he drew a girl w\n",
      "ope he didnt draw a penis PART ewwwww lol & a head between her legs JOIN JOIN s\n",
      "a bowl i got a blunt an a bong ...... lol JOIN well , glad it worked out my cha\n",
      "e \" PART Hi U121 in ny . ACTION would lol @ U121 . . . but appearently she does\n",
      "30 make sure u buy a nice ring for U6 lol U7 Hi U115 . ACTION isnt falling for \n",
      " didnt ya hear !!!! PART JOIN geeshhh lol U6 PART hes deaf ppl here dont get it\n",
      "es nobody here i wanna misbeahve with lol JOIN so read it . thanks U7 .. Im hap\n",
      "ies want to chat can i talk to him !! lol U121 !!! forwards too lol JOIN ALL PE\n",
      "k to him !! lol U121 !!! forwards too lol JOIN ALL PErvs ... redirect to U121 '\n",
      " loves ME the most i love myself JOIN lol U44 how do u know that what ? jerkett\n",
      "ng wrong ... i can see it in his eyes lol U20 = fiance Jerketts lmao wtf yah I \n",
      "cooler by the minute what 'd I miss ? lol noo there too much work ! why not ?? \n",
      " that mean I want you ? U6 hello room lol U83 and this .. has been the grammar \n",
      " the rule he 's in PM land now though lol ah ok i wont bug em then someone wann\n",
      "flight to hell :) lmao bbl maybe PART LOL lol U7 it was me , U83 hahah U83 ! 80\n",
      "ht to hell :) lmao bbl maybe PART LOL lol U7 it was me , U83 hahah U83 ! 808265\n",
      "082653953 K-Fed got his ass kicked .. Lol . ACTION laughs . i got a first class\n",
      " . i got a first class ticket to hell lol U7 JOIN any texas girls in here ? any\n",
      " . whats up U155 i was only kidding . lol he 's a douchebag . Poor U121 i 'm bo\n",
      " ??? sits with U30 Cum to my shower . lol U121 . ACTION U1370 watches his nads \n",
      " ur nad with a stick . ca u U23 ewwww lol *sniffs* ewwwwww PART U115 ! owww spl\n",
      "ACTION is resisting . ur female right lol U115 beeeeehave Remember the LAst tim\n",
      "pm's me . charge that is 1.99 / min . lol @ innocent hahah lol .... yeah LOLOLO\n",
      " is 1.99 / min . lol @ innocent hahah lol .... yeah LOLOLOLLL U12 thats not nic\n",
      "s . lmao no U115 Check my record . :) Lol lick em U7 U23 how old r u lol Way to\n",
      "None\n"
     ]
    }
   ],
   "source": [
    "# 1.\tHow many items are there in Monty Python and the Holy Grail (text6)? \n",
    "len(set(text6))\n",
    "\n",
    "# 2.\tHow many times is the term “lol” used in the Chat Corpus (text5) *(be aware that this text has not been censored).\n",
    "text5.count('lol')\n",
    "\n",
    "# 3.\tCreate a function using def and use it on one or more of the texts.\n",
    "def find_concordance(text, word):\n",
    "    return text.concordance(word)\n",
    "\n",
    "word_concordance = find_concordance(text5, 'lol')\n",
    "print(word_concordance)"
   ]
  },
  {
   "cell_type": "code",
   "execution_count": null,
   "id": "997fa944-dfda-4113-9182-7594ae21da5f",
   "metadata": {},
   "outputs": [],
   "source": []
  }
 ],
 "metadata": {
  "kernelspec": {
   "display_name": "Python 3 (ipykernel)",
   "language": "python",
   "name": "python3"
  },
  "language_info": {
   "codemirror_mode": {
    "name": "ipython",
    "version": 3
   },
   "file_extension": ".py",
   "mimetype": "text/x-python",
   "name": "python",
   "nbconvert_exporter": "python",
   "pygments_lexer": "ipython3",
   "version": "3.9.7"
  }
 },
 "nbformat": 4,
 "nbformat_minor": 5
}
