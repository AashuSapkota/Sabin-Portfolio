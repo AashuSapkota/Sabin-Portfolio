{
 "cells": [
  {
   "cell_type": "code",
   "execution_count": 1,
   "id": "5b2b1436-1a0a-43df-9bd3-973643e240ac",
   "metadata": {},
   "outputs": [
    {
     "name": "stdin",
     "output_type": "stream",
     "text": [
      "Please select one of the following options:\n",
      "\t Press 1 to convert Celsius to Fahrenheit\n",
      "\t Press 2 to convert Fahrenheit \n",
      " 2\n",
      "Enter the temperature that yoy want to convert:  99\n"
     ]
    },
    {
     "name": "stdout",
     "output_type": "stream",
     "text": [
      "99.0 F converts to 37 C.\n"
     ]
    }
   ],
   "source": [
    "prompt = '''Please select one of the following options:\n",
    "\\t Press 1 to convert Celsius to Fahrenheit\n",
    "\\t Press 2 to convert Fahrenheit \\n'''\n",
    "\n",
    "condition = int(input(prompt))\n",
    "if condition == 1 or condition == 2: \n",
    "    temp = float(input('Enter the temperature that you want to convert: '))\n",
    "\n",
    "\n",
    "def celsius_to_fahrenheit(temp):\n",
    "    fah = (temp * 1.8) + 32\n",
    "    return fah\n",
    "\n",
    "def fahrenheit_to_celsius(temp):\n",
    "    cel = (temp - 32) / 1.8\n",
    "    return cel\n",
    "\n",
    "if condition == 1:\n",
    "    result = round(celsius_to_fahrenheit(temp))\n",
    "    print(str(temp) + ' C converts to ' + str(result) + ' F.')\n",
    "elif condition == 2:\n",
    "    result = round(fahrenheit_to_celsius(temp))\n",
    "    print(str(temp) + ' F converts to ' + str(result) + ' C.')\n",
    "else:\n",
    "    print(\"Consition out of given options.\")\n",
    "    quit()"
   ]
  },
  {
   "cell_type": "code",
   "execution_count": 28,
   "id": "bf30785d-7e1b-416f-be00-9a5950cb2797",
   "metadata": {},
   "outputs": [
    {
     "name": "stdin",
     "output_type": "stream",
     "text": [
      "What is the number of numbers that you want to average?  3\n",
      "Enter the number:  1\n"
     ]
    },
    {
     "name": "stdout",
     "output_type": "stream",
     "text": [
      "1.0\n"
     ]
    },
    {
     "name": "stdin",
     "output_type": "stream",
     "text": [
      "Enter the number:  2\n"
     ]
    },
    {
     "name": "stdout",
     "output_type": "stream",
     "text": [
      "3.0\n"
     ]
    },
    {
     "name": "stdin",
     "output_type": "stream",
     "text": [
      "Enter the number:  3\n"
     ]
    },
    {
     "name": "stdout",
     "output_type": "stream",
     "text": [
      "6.0\n",
      "total 6.0\n",
      "range 3\n",
      "The average number is :  2.0\n"
     ]
    }
   ],
   "source": [
    "num_range = int(input('What is the number of numbers that you want to average? '))\n",
    "total = 0\n",
    "\n",
    "for num in range(int(num_range)):\n",
    "    number = input('Enter the number: ')\n",
    "    total += float(number)\n",
    "\n",
    "average_num = total / num_range\n",
    "\n",
    "print('The average number is : ',average_num)\n",
    "\n",
    "    "
   ]
  },
  {
   "cell_type": "code",
   "execution_count": null,
   "id": "f2cb6814-eadc-4204-ba09-9ed7e35b2574",
   "metadata": {},
   "outputs": [],
   "source": []
  }
 ],
 "metadata": {
  "kernelspec": {
   "display_name": "Python 3 (ipykernel)",
   "language": "python",
   "name": "python3"
  },
  "language_info": {
   "codemirror_mode": {
    "name": "ipython",
    "version": 3
   },
   "file_extension": ".py",
   "mimetype": "text/x-python",
   "name": "python",
   "nbconvert_exporter": "python",
   "pygments_lexer": "ipython3",
   "version": "3.9.7"
  }
 },
 "nbformat": 4,
 "nbformat_minor": 5
}
