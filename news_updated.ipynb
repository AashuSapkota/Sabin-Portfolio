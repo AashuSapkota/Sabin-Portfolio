{
 "cells": [
  {
   "cell_type": "markdown",
   "id": "94985c1a-51c7-493a-98a0-3098d8c6dc2f",
   "metadata": {},
   "source": [
    "# Importing Necessary Libraries"
   ]
  },
  {
   "cell_type": "code",
   "execution_count": 1,
   "id": "a053e734-471f-4137-94a4-c0a50a753f39",
   "metadata": {},
   "outputs": [],
   "source": [
    "import re\n",
    "import numpy as np\n",
    "import pandas as pd\n",
    "\n",
    "import nltk\n",
    "from nltk.tokenize import WhitespaceTokenizer\n",
    "from nltk.corpus import stopwords\n",
    "from nltk.stem import WordNetLemmatizer\n",
    "\n",
    "from sklearn.feature_extraction.text import TfidfVectorizer\n",
    "\n",
    "from sklearn.model_selection import train_test_split\n",
    "\n",
    "from sklearn.svm import SVC\n",
    "from sklearn.naive_bayes import MultinomialNB\n",
    "from sklearn.linear_model import LogisticRegression\n",
    "\n",
    "from sklearn.metrics import accuracy_score, classification_report, confusion_matrix\n",
    "from sklearn.metrics import precision_score, recall_score, f1_score\n",
    "\n",
    "import matplotlib.pyplot as plt\n",
    "from sklearn.metrics import plot_confusion_matrix"
   ]
  },
  {
   "cell_type": "markdown",
   "id": "ac9ca758-0cef-4015-a322-4d445370e351",
   "metadata": {},
   "source": [
    "#  Getting With Dataset"
   ]
  },
  {
   "cell_type": "code",
   "execution_count": 2,
   "id": "99443656-4a62-4c0e-aeb0-3a8a84ec5c76",
   "metadata": {},
   "outputs": [],
   "source": [
    "# reading dataset\n",
    "dataset = pd.read_csv('dataset/train.csv')"
   ]
  },
  {
   "cell_type": "code",
   "execution_count": 3,
   "id": "40740159-b85d-43e9-8f75-e667a729011a",
   "metadata": {},
   "outputs": [
    {
     "name": "stdout",
     "output_type": "stream",
     "text": [
      "<class 'pandas.core.frame.DataFrame'>\n",
      "RangeIndex: 20800 entries, 0 to 20799\n",
      "Data columns (total 5 columns):\n",
      " #   Column  Non-Null Count  Dtype \n",
      "---  ------  --------------  ----- \n",
      " 0   id      20800 non-null  int64 \n",
      " 1   title   20242 non-null  object\n",
      " 2   author  18843 non-null  object\n",
      " 3   text    20761 non-null  object\n",
      " 4   label   20800 non-null  int64 \n",
      "dtypes: int64(2), object(3)\n",
      "memory usage: 812.6+ KB\n"
     ]
    }
   ],
   "source": [
    "# exploring dataset\n",
    "dataset.info()"
   ]
  },
  {
   "cell_type": "code",
   "execution_count": 4,
   "id": "2c9ca8ac-50dd-42c6-8947-711cba62eb14",
   "metadata": {},
   "outputs": [
    {
     "data": {
      "text/html": [
       "<div>\n",
       "<style scoped>\n",
       "    .dataframe tbody tr th:only-of-type {\n",
       "        vertical-align: middle;\n",
       "    }\n",
       "\n",
       "    .dataframe tbody tr th {\n",
       "        vertical-align: top;\n",
       "    }\n",
       "\n",
       "    .dataframe thead th {\n",
       "        text-align: right;\n",
       "    }\n",
       "</style>\n",
       "<table border=\"1\" class=\"dataframe\">\n",
       "  <thead>\n",
       "    <tr style=\"text-align: right;\">\n",
       "      <th></th>\n",
       "      <th>id</th>\n",
       "      <th>label</th>\n",
       "    </tr>\n",
       "  </thead>\n",
       "  <tbody>\n",
       "    <tr>\n",
       "      <th>count</th>\n",
       "      <td>20800.000000</td>\n",
       "      <td>20800.000000</td>\n",
       "    </tr>\n",
       "    <tr>\n",
       "      <th>mean</th>\n",
       "      <td>10399.500000</td>\n",
       "      <td>0.500625</td>\n",
       "    </tr>\n",
       "    <tr>\n",
       "      <th>std</th>\n",
       "      <td>6004.587135</td>\n",
       "      <td>0.500012</td>\n",
       "    </tr>\n",
       "    <tr>\n",
       "      <th>min</th>\n",
       "      <td>0.000000</td>\n",
       "      <td>0.000000</td>\n",
       "    </tr>\n",
       "    <tr>\n",
       "      <th>25%</th>\n",
       "      <td>5199.750000</td>\n",
       "      <td>0.000000</td>\n",
       "    </tr>\n",
       "    <tr>\n",
       "      <th>50%</th>\n",
       "      <td>10399.500000</td>\n",
       "      <td>1.000000</td>\n",
       "    </tr>\n",
       "    <tr>\n",
       "      <th>75%</th>\n",
       "      <td>15599.250000</td>\n",
       "      <td>1.000000</td>\n",
       "    </tr>\n",
       "    <tr>\n",
       "      <th>max</th>\n",
       "      <td>20799.000000</td>\n",
       "      <td>1.000000</td>\n",
       "    </tr>\n",
       "  </tbody>\n",
       "</table>\n",
       "</div>"
      ],
      "text/plain": [
       "                 id         label\n",
       "count  20800.000000  20800.000000\n",
       "mean   10399.500000      0.500625\n",
       "std     6004.587135      0.500012\n",
       "min        0.000000      0.000000\n",
       "25%     5199.750000      0.000000\n",
       "50%    10399.500000      1.000000\n",
       "75%    15599.250000      1.000000\n",
       "max    20799.000000      1.000000"
      ]
     },
     "execution_count": 4,
     "metadata": {},
     "output_type": "execute_result"
    }
   ],
   "source": [
    "# Getting the description of the dataset\n",
    "dataset.describe()"
   ]
  },
  {
   "cell_type": "code",
   "execution_count": 5,
   "id": "9a857b5b-6d94-4632-9c8e-150efaaeb7ef",
   "metadata": {},
   "outputs": [
    {
     "data": {
      "text/plain": [
       "(20800, 5)"
      ]
     },
     "execution_count": 5,
     "metadata": {},
     "output_type": "execute_result"
    }
   ],
   "source": [
    "# Checking the shape of the dataset\n",
    "dataset.shape"
   ]
  },
  {
   "cell_type": "code",
   "execution_count": 6,
   "id": "7291c6a5-1c66-4eb9-90b0-8304beeaeb5e",
   "metadata": {},
   "outputs": [
    {
     "data": {
      "text/html": [
       "<div>\n",
       "<style scoped>\n",
       "    .dataframe tbody tr th:only-of-type {\n",
       "        vertical-align: middle;\n",
       "    }\n",
       "\n",
       "    .dataframe tbody tr th {\n",
       "        vertical-align: top;\n",
       "    }\n",
       "\n",
       "    .dataframe thead th {\n",
       "        text-align: right;\n",
       "    }\n",
       "</style>\n",
       "<table border=\"1\" class=\"dataframe\">\n",
       "  <thead>\n",
       "    <tr style=\"text-align: right;\">\n",
       "      <th></th>\n",
       "      <th>id</th>\n",
       "      <th>title</th>\n",
       "      <th>author</th>\n",
       "      <th>text</th>\n",
       "      <th>label</th>\n",
       "    </tr>\n",
       "  </thead>\n",
       "  <tbody>\n",
       "    <tr>\n",
       "      <th>0</th>\n",
       "      <td>0</td>\n",
       "      <td>House Dem Aide: We Didn’t Even See Comey’s Let...</td>\n",
       "      <td>Darrell Lucus</td>\n",
       "      <td>House Dem Aide: We Didn’t Even See Comey’s Let...</td>\n",
       "      <td>1</td>\n",
       "    </tr>\n",
       "    <tr>\n",
       "      <th>1</th>\n",
       "      <td>1</td>\n",
       "      <td>FLYNN: Hillary Clinton, Big Woman on Campus - ...</td>\n",
       "      <td>Daniel J. Flynn</td>\n",
       "      <td>Ever get the feeling your life circles the rou...</td>\n",
       "      <td>0</td>\n",
       "    </tr>\n",
       "    <tr>\n",
       "      <th>2</th>\n",
       "      <td>2</td>\n",
       "      <td>Why the Truth Might Get You Fired</td>\n",
       "      <td>Consortiumnews.com</td>\n",
       "      <td>Why the Truth Might Get You Fired October 29, ...</td>\n",
       "      <td>1</td>\n",
       "    </tr>\n",
       "    <tr>\n",
       "      <th>3</th>\n",
       "      <td>3</td>\n",
       "      <td>15 Civilians Killed In Single US Airstrike Hav...</td>\n",
       "      <td>Jessica Purkiss</td>\n",
       "      <td>Videos 15 Civilians Killed In Single US Airstr...</td>\n",
       "      <td>1</td>\n",
       "    </tr>\n",
       "    <tr>\n",
       "      <th>4</th>\n",
       "      <td>4</td>\n",
       "      <td>Iranian woman jailed for fictional unpublished...</td>\n",
       "      <td>Howard Portnoy</td>\n",
       "      <td>Print \\nAn Iranian woman has been sentenced to...</td>\n",
       "      <td>1</td>\n",
       "    </tr>\n",
       "  </tbody>\n",
       "</table>\n",
       "</div>"
      ],
      "text/plain": [
       "   id                                              title              author  \\\n",
       "0   0  House Dem Aide: We Didn’t Even See Comey’s Let...       Darrell Lucus   \n",
       "1   1  FLYNN: Hillary Clinton, Big Woman on Campus - ...     Daniel J. Flynn   \n",
       "2   2                  Why the Truth Might Get You Fired  Consortiumnews.com   \n",
       "3   3  15 Civilians Killed In Single US Airstrike Hav...     Jessica Purkiss   \n",
       "4   4  Iranian woman jailed for fictional unpublished...      Howard Portnoy   \n",
       "\n",
       "                                                text  label  \n",
       "0  House Dem Aide: We Didn’t Even See Comey’s Let...      1  \n",
       "1  Ever get the feeling your life circles the rou...      0  \n",
       "2  Why the Truth Might Get You Fired October 29, ...      1  \n",
       "3  Videos 15 Civilians Killed In Single US Airstr...      1  \n",
       "4  Print \\nAn Iranian woman has been sentenced to...      1  "
      ]
     },
     "execution_count": 6,
     "metadata": {},
     "output_type": "execute_result"
    }
   ],
   "source": [
    "# Exploring the first five rows of the dataset\n",
    "dataset.head()"
   ]
  },
  {
   "cell_type": "code",
   "execution_count": 7,
   "id": "5913e7e9-4eeb-4200-9319-2cc01d8c17e8",
   "metadata": {},
   "outputs": [
    {
     "data": {
      "text/plain": [
       "id           0\n",
       "title      558\n",
       "author    1957\n",
       "text        39\n",
       "label        0\n",
       "dtype: int64"
      ]
     },
     "execution_count": 7,
     "metadata": {},
     "output_type": "execute_result"
    }
   ],
   "source": [
    "# Checking for null value in dataset\n",
    "dataset.isnull().sum()"
   ]
  },
  {
   "cell_type": "code",
   "execution_count": 8,
   "id": "ac5530cf-4816-424f-9bc4-181d775eb5c2",
   "metadata": {},
   "outputs": [
    {
     "data": {
      "text/plain": [
       "id        0\n",
       "title     0\n",
       "author    0\n",
       "text      0\n",
       "label     0\n",
       "dtype: int64"
      ]
     },
     "execution_count": 8,
     "metadata": {},
     "output_type": "execute_result"
    }
   ],
   "source": [
    "# Replacing the null values with empty string\n",
    "dataset = dataset.fillna('')\n",
    "dataset.isnull().sum()"
   ]
  },
  {
   "cell_type": "code",
   "execution_count": 9,
   "id": "a97a7110-0b92-411c-9749-23ceb3eeb8fa",
   "metadata": {},
   "outputs": [],
   "source": [
    "# merging the author, title and text into a single column\n",
    "dataset['news'] = dataset['author'] + ' ' + dataset['title'] + ' ' + dataset['text']"
   ]
  },
  {
   "cell_type": "markdown",
   "id": "4e08802a-1c1e-4d42-84bb-50499c570850",
   "metadata": {},
   "source": [
    "# Tokenization"
   ]
  },
  {
   "cell_type": "code",
   "execution_count": 10,
   "id": "f2b85420-d9dd-49bc-bb55-bc7ca1ddf1be",
   "metadata": {},
   "outputs": [
    {
     "name": "stderr",
     "output_type": "stream",
     "text": [
      "C:\\Users\\INFI\\AppData\\Local\\Temp\\ipykernel_19032\\444905239.py:2: FutureWarning: The default value of regex will change from True to False in a future version.\n",
      "  dataset['news'] = dataset['news'].str.replace('[^a-zA-Z]',' ')\n"
     ]
    }
   ],
   "source": [
    "# replacing non-aplhabetical characters with whitespace\n",
    "dataset['news'] = dataset['news'].str.replace('[^a-zA-Z]',' ')"
   ]
  },
  {
   "cell_type": "code",
   "execution_count": 11,
   "id": "6e3e9bb2-82a8-44c6-b27f-e7bd06566346",
   "metadata": {},
   "outputs": [],
   "source": [
    "# converting the word into smaller words\n",
    "dataset['news']=[word.lower() for word in dataset['news']]"
   ]
  },
  {
   "cell_type": "code",
   "execution_count": 12,
   "id": "feb7bfb5-5236-4a0e-b36e-7b13242eef1b",
   "metadata": {},
   "outputs": [],
   "source": [
    "# applying tokenization\n",
    "dataset['news']=dataset['news'].apply(nltk.tokenize.WhitespaceTokenizer().tokenize)"
   ]
  },
  {
   "cell_type": "code",
   "execution_count": 13,
   "id": "ea344e5f-448c-4397-911d-f225f7d4e76c",
   "metadata": {},
   "outputs": [],
   "source": [
    "# removing stopwords\n",
    "dataset['news'] = dataset['news'].apply(lambda words:[word for word in words if not word in stopwords.words('english')])"
   ]
  },
  {
   "cell_type": "code",
   "execution_count": 14,
   "id": "b870e7e5-fc2f-44b5-a2fa-b19d3d6b1ab7",
   "metadata": {},
   "outputs": [],
   "source": [
    "# creating instance of class WordNetLemmatizer\n",
    "lemmatizer = WordNetLemmatizer()\n",
    "\n",
    "# creating function for lemmatization\n",
    "def lemmatize_text(text):\n",
    "    return(lemmatizer.lemmatize(word) for word in text)\n",
    "\n",
    "# applying lemmatization\n",
    "dataset['news-lemma'] = dataset['news'].apply(lemmatize_text)"
   ]
  },
  {
   "cell_type": "code",
   "execution_count": 15,
   "id": "ccfce48c-15d0-415e-aada-62077be76a46",
   "metadata": {},
   "outputs": [],
   "source": [
    "dataset['news'] = dataset['news'].apply(lemmatize_text)"
   ]
  },
  {
   "cell_type": "code",
   "execution_count": 16,
   "id": "57986b50-aa43-420a-955c-a54936d4b734",
   "metadata": {},
   "outputs": [
    {
     "name": "stderr",
     "output_type": "stream",
     "text": [
      "C:\\Users\\INFI\\AppData\\Local\\Temp\\ipykernel_19032\\1766059312.py:3: SettingWithCopyWarning: \n",
      "A value is trying to be set on a copy of a slice from a DataFrame\n",
      "\n",
      "See the caveats in the documentation: https://pandas.pydata.org/pandas-docs/stable/user_guide/indexing.html#returning-a-view-versus-a-copy\n",
      "  dataset['lematized_news'][i] = ' '.join(dataset['news'][i])\n"
     ]
    }
   ],
   "source": [
    "dataset['lematized_news']=0\n",
    "for i in range(0,len(dataset)):\n",
    "    dataset['lematized_news'][i] = ' '.join(dataset['news'][i])"
   ]
  },
  {
   "cell_type": "code",
   "execution_count": 17,
   "id": "4e831ca0-e3e3-4232-9c6c-2f3d916007b2",
   "metadata": {},
   "outputs": [
    {
     "data": {
      "text/plain": [
       "0        darrell lucus house dem aide even see comey le...\n",
       "1        daniel j flynn flynn hillary clinton big woman...\n",
       "2        consortiumnews com truth might get fired truth...\n",
       "3        jessica purkiss civilian killed single u airst...\n",
       "4        howard portnoy iranian woman jailed fictional ...\n",
       "                               ...                        \n",
       "20795    jerome hudson rapper trump poster child white ...\n",
       "20796    benjamin hoffman n f l playoff schedule matchu...\n",
       "20797    michael j de la merced rachel abrams macy said...\n",
       "20798    alex ansary nato russia hold parallel exercise...\n",
       "20799    david swanson keep f alive david swanson autho...\n",
       "Name: lematized_news, Length: 20800, dtype: object"
      ]
     },
     "execution_count": 17,
     "metadata": {},
     "output_type": "execute_result"
    }
   ],
   "source": [
    "dataset['lematized_news']"
   ]
  },
  {
   "cell_type": "code",
   "execution_count": 18,
   "id": "a66032c3-2204-48d9-baaa-c0e706ac72e8",
   "metadata": {},
   "outputs": [],
   "source": [
    "train_data = dataset['lematized_news'].values\n",
    "target = dataset['label'].values"
   ]
  },
  {
   "cell_type": "markdown",
   "id": "44f11d2e-4351-485f-9ed6-ab101bffa479",
   "metadata": {},
   "source": [
    "# Extracting features from the dataset"
   ]
  },
  {
   "cell_type": "code",
   "execution_count": 19,
   "id": "2cbf41af-cb60-417f-90e6-deb78528d1c5",
   "metadata": {},
   "outputs": [
    {
     "data": {
      "text/plain": [
       "TfidfVectorizer()"
      ]
     },
     "execution_count": 19,
     "metadata": {},
     "output_type": "execute_result"
    }
   ],
   "source": [
    "# converting data into numerical values\n",
    "vectorizer = TfidfVectorizer()\n",
    "vectorizer.fit(train_data)"
   ]
  },
  {
   "cell_type": "code",
   "execution_count": 20,
   "id": "e1df582e-8034-4971-8309-7f56382f165e",
   "metadata": {},
   "outputs": [],
   "source": [
    "train_data = vectorizer.transform(train_data)"
   ]
  },
  {
   "cell_type": "code",
   "execution_count": 21,
   "id": "be46f824-76df-4b30-a6bc-8c37901940e3",
   "metadata": {},
   "outputs": [],
   "source": [
    "# spliting data into train and test data\n",
    "X_train, X_test, Y_train, Y_test = train_test_split(train_data, target, test_size = 0.2, stratify=target, random_state=2)"
   ]
  },
  {
   "cell_type": "markdown",
   "id": "3f13061b-82f8-4d16-a4b2-cbed9ecfb4fc",
   "metadata": {},
   "source": [
    "# Handling Data Imbalance"
   ]
  },
  {
   "cell_type": "code",
   "execution_count": 22,
   "id": "75590d04-6761-4e59-b0d0-5b323a181b14",
   "metadata": {},
   "outputs": [
    {
     "data": {
      "text/plain": [
       "20"
      ]
     },
     "execution_count": 22,
     "metadata": {},
     "output_type": "execute_result"
    }
   ],
   "source": [
    "# checking whether the training data is balanced or not\n",
    "(Y_train==1).sum() - (Y_train==0).sum()"
   ]
  },
  {
   "cell_type": "code",
   "execution_count": 23,
   "id": "79c1df6b-f738-4fad-9731-200a80755c1a",
   "metadata": {},
   "outputs": [],
   "source": [
    "# Balancing data using SMOTE (Synthetic Minority Oversampling Technique) since the number of original news is lesser by 20\n",
    "from imblearn.over_sampling import SMOTE\n",
    "smt = SMOTE()\n",
    "X_train, Y_train = smt.fit_resample(X_train, Y_train)"
   ]
  },
  {
   "cell_type": "markdown",
   "id": "c4f5f00f-0f23-4d6d-9046-75b6bd01c35a",
   "metadata": {},
   "source": [
    "# Logistic Regression"
   ]
  },
  {
   "cell_type": "code",
   "execution_count": 24,
   "id": "7bf9010c-cda9-40ae-9b47-7c54496fd66e",
   "metadata": {},
   "outputs": [
    {
     "data": {
      "text/plain": [
       "LogisticRegression()"
      ]
     },
     "execution_count": 24,
     "metadata": {},
     "output_type": "execute_result"
    }
   ],
   "source": [
    "# training data into logistic regression classifier\n",
    "log_clf = LogisticRegression()\n",
    "log_clf.fit(X_train, Y_train)"
   ]
  },
  {
   "cell_type": "code",
   "execution_count": 25,
   "id": "5ec68803-7add-46eb-a249-e26366b6bd81",
   "metadata": {},
   "outputs": [
    {
     "name": "stdout",
     "output_type": "stream",
     "text": [
      "Accuracy Score Training Data (Logistic Regression):  0.9796518607442977\n"
     ]
    }
   ],
   "source": [
    "# checking accuracy score on training data\n",
    "X_train_prediction_logclf = log_clf.predict(X_train)\n",
    "training_data_accuracy_logclf = accuracy_score(X_train_prediction_logclf, Y_train)\n",
    "print('Accuracy Score Training Data (Logistic Regression): ', training_data_accuracy_logclf)"
   ]
  },
  {
   "cell_type": "code",
   "execution_count": 26,
   "id": "6bf4c134-c032-40d1-abec-3ec7c4ec2af6",
   "metadata": {},
   "outputs": [
    {
     "name": "stdout",
     "output_type": "stream",
     "text": [
      "Accuracy Score Testing Data (Logistic Regression):  0.9543269230769231\n"
     ]
    }
   ],
   "source": [
    "# checking accuracy score on testing data\n",
    "X_test_prediction_logclf = log_clf.predict(X_test)\n",
    "testing_data_accuracy_logclf = accuracy_score(X_test_prediction_logclf, Y_test)\n",
    "print('Accuracy Score Testing Data (Logistic Regression): ', testing_data_accuracy_logclf)"
   ]
  },
  {
   "cell_type": "code",
   "execution_count": 27,
   "id": "3c1f215a-9cc2-4ea0-bc24-98f1cb67a7c6",
   "metadata": {},
   "outputs": [
    {
     "name": "stdout",
     "output_type": "stream",
     "text": [
      "[[8138  192]\n",
      " [ 147 8183]]\n"
     ]
    },
    {
     "name": "stderr",
     "output_type": "stream",
     "text": [
      "E:\\Ismt\\AI\\FakeNews\\venv\\lib\\site-packages\\sklearn\\utils\\deprecation.py:87: FutureWarning: Function plot_confusion_matrix is deprecated; Function `plot_confusion_matrix` is deprecated in 1.0 and will be removed in 1.2. Use one of the class methods: ConfusionMatrixDisplay.from_predictions or ConfusionMatrixDisplay.from_estimator.\n",
      "  warnings.warn(msg, category=FutureWarning)\n"
     ]
    },
    {
     "data": {
      "text/plain": [
       "<sklearn.metrics._plot.confusion_matrix.ConfusionMatrixDisplay at 0x17cf38516a0>"
      ]
     },
     "execution_count": 27,
     "metadata": {},
     "output_type": "execute_result"
    },
    {
     "data": {
      "image/png": "[encoded data removed]",
      "text/plain": [
       "<Figure size 432x288 with 2 Axes>"
      ]
     },
     "metadata": {
      "needs_background": "light"
     },
     "output_type": "display_data"
    }
   ],
   "source": [
    "# confusion matrix on training data\n",
    "confusion_matrix_score_train_logclf = confusion_matrix(Y_train, X_train_prediction_logclf)\n",
    "print(confusion_matrix_score_train_logclf)\n",
    "plot_confusion_matrix(log_clf, X_train, Y_train)"
   ]
  },
  {
   "cell_type": "code",
   "execution_count": 28,
   "id": "cda40e57-1c47-4209-880b-8bc9e2803406",
   "metadata": {},
   "outputs": [
    {
     "name": "stdout",
     "output_type": "stream",
     "text": [
      "[[1979   98]\n",
      " [  92 1991]]\n"
     ]
    },
    {
     "name": "stderr",
     "output_type": "stream",
     "text": [
      "E:\\Ismt\\AI\\FakeNews\\venv\\lib\\site-packages\\sklearn\\utils\\deprecation.py:87: FutureWarning: Function plot_confusion_matrix is deprecated; Function `plot_confusion_matrix` is deprecated in 1.0 and will be removed in 1.2. Use one of the class methods: ConfusionMatrixDisplay.from_predictions or ConfusionMatrixDisplay.from_estimator.\n",
      "  warnings.warn(msg, category=FutureWarning)\n"
     ]
    },
    {
     "data": {
      "text/plain": [
       "<sklearn.metrics._plot.confusion_matrix.ConfusionMatrixDisplay at 0x17cf3851f70>"
      ]
     },
     "execution_count": 28,
     "metadata": {},
     "output_type": "execute_result"
    },
    {
     "data": {
      "image/png": "[encoded data removed]",
      "text/plain": [
       "<Figure size 432x288 with 2 Axes>"
      ]
     },
     "metadata": {
      "needs_background": "light"
     },
     "output_type": "display_data"
    }
   ],
   "source": [
    "# confusion matrix on testing data\n",
    "confusion_matrix_score_test_logclf = confusion_matrix(Y_test, X_test_prediction_logclf)\n",
    "print(confusion_matrix_score_test_logclf)\n",
    "plot_confusion_matrix(log_clf, X_test, Y_test)"
   ]
  },
  {
   "cell_type": "code",
   "execution_count": 29,
   "id": "771a33b0-2e48-4973-a047-d0e6f38e1dba",
   "metadata": {},
   "outputs": [
    {
     "name": "stdout",
     "output_type": "stream",
     "text": [
      "Precision Score on training data (Logistic Regression):  0.9770746268656716\n",
      "Recall Score on training data (Logistic Regression):  0.9823529411764705\n"
     ]
    }
   ],
   "source": [
    "# precision and recall score on training data\n",
    "precision_score_train_logclf = precision_score(Y_train, X_train_prediction_logclf)\n",
    "recall_score_train_logclf = recall_score(Y_train, X_train_prediction_logclf)\n",
    "print(\"Precision Score on training data (Logistic Regression): \", precision_score_train_logclf)\n",
    "print(\"Recall Score on training data (Logistic Regression): \", recall_score_train_logclf)"
   ]
  },
  {
   "cell_type": "code",
   "execution_count": 30,
   "id": "dca16d93-71d5-4bf8-bdc3-94de82352961",
   "metadata": {},
   "outputs": [
    {
     "name": "stdout",
     "output_type": "stream",
     "text": [
      "Precision Score on testing data (Logistic Regression):  0.9530876017233126\n",
      "Recall Score on testing data (Logistic Regression):  0.9558329332693231\n"
     ]
    }
   ],
   "source": [
    "# precision and recall score on testing data\n",
    "precision_score_test_logclf = precision_score(Y_test, X_test_prediction_logclf)\n",
    "recall_score_test_logclf = recall_score(Y_test, X_test_prediction_logclf)\n",
    "print(\"Precision Score on testing data (Logistic Regression): \", precision_score_test_logclf)\n",
    "print(\"Recall Score on testing data (Logistic Regression): \", recall_score_test_logclf)"
   ]
  },
  {
   "cell_type": "code",
   "execution_count": 31,
   "id": "1f16a548-2d45-42bf-bf06-498fc51a1d75",
   "metadata": {},
   "outputs": [
    {
     "name": "stdout",
     "output_type": "stream",
     "text": [
      "F1 Score on training data (Logistic Regression):  0.9797066746483089\n"
     ]
    }
   ],
   "source": [
    "# f1 score on training data\n",
    "f1_score_train_logclf = f1_score(Y_train, X_train_prediction_logclf)\n",
    "print('F1 Score on training data (Logistic Regression): ', f1_score_train_logclf)"
   ]
  },
  {
   "cell_type": "code",
   "execution_count": 32,
   "id": "730ae44b-87bc-479d-937d-86f3b3cdbeb8",
   "metadata": {},
   "outputs": [
    {
     "name": "stdout",
     "output_type": "stream",
     "text": [
      "F1 Score on testing data (Logistic Regression):  0.9544582933844679\n"
     ]
    }
   ],
   "source": [
    "# f1 score on training data\n",
    "f1_score_test_logclf = f1_score(Y_test, X_test_prediction_logclf)\n",
    "print('F1 Score on testing data (Logistic Regression): ', f1_score_test_logclf)"
   ]
  },
  {
   "cell_type": "code",
   "execution_count": 33,
   "id": "8656dc09-8810-4b1e-a609-806f495a2d47",
   "metadata": {},
   "outputs": [
    {
     "name": "stdout",
     "output_type": "stream",
     "text": [
      "Classification Report on training data (Logistic Regression): \n",
      "               precision    recall  f1-score   support\n",
      "\n",
      "           0       0.98      0.98      0.98      8330\n",
      "           1       0.98      0.98      0.98      8330\n",
      "\n",
      "    accuracy                           0.98     16660\n",
      "   macro avg       0.98      0.98      0.98     16660\n",
      "weighted avg       0.98      0.98      0.98     16660\n",
      "\n"
     ]
    }
   ],
   "source": [
    "# classification report on training data\n",
    "classification_report_train_logclf = classification_report(Y_train,X_train_prediction_logclf)\n",
    "print(\"Classification Report on training data (Logistic Regression): \\n\", classification_report_train_logclf)"
   ]
  },
  {
   "cell_type": "code",
   "execution_count": 34,
   "id": "fb2525f9-f1e2-4349-b6f1-ecbebdaa4121",
   "metadata": {},
   "outputs": [
    {
     "name": "stdout",
     "output_type": "stream",
     "text": [
      "Classification Report on testing data (Logistic Regression): \n",
      "               precision    recall  f1-score   support\n",
      "\n",
      "           0       0.96      0.95      0.95      2077\n",
      "           1       0.95      0.96      0.95      2083\n",
      "\n",
      "    accuracy                           0.95      4160\n",
      "   macro avg       0.95      0.95      0.95      4160\n",
      "weighted avg       0.95      0.95      0.95      4160\n",
      "\n"
     ]
    }
   ],
   "source": [
    "# classification report on testing data\n",
    "classification_report_test_logclf = classification_report(Y_test,X_test_prediction_logclf)\n",
    "print(\"Classification Report on testing data (Logistic Regression): \\n\", classification_report_test_logclf)"
   ]
  },
  {
   "cell_type": "markdown",
   "id": "02f6ec71-c458-4e05-98d8-625ced01300d",
   "metadata": {},
   "source": [
    "# MultinomialNB"
   ]
  },
  {
   "cell_type": "code",
   "execution_count": 35,
   "id": "c29a4511-8576-43b9-8819-e5151805d399",
   "metadata": {},
   "outputs": [
    {
     "data": {
      "text/plain": [
       "MultinomialNB()"
      ]
     },
     "execution_count": 35,
     "metadata": {},
     "output_type": "execute_result"
    }
   ],
   "source": [
    "# training data into MultinomialNB\n",
    "naive_clf = MultinomialNB()\n",
    "naive_clf.fit(X_train, Y_train)"
   ]
  },
  {
   "cell_type": "code",
   "execution_count": 36,
   "id": "1d2d3802-f72c-4114-af3f-9c53ede757b0",
   "metadata": {},
   "outputs": [
    {
     "name": "stdout",
     "output_type": "stream",
     "text": [
      "Accuracy Score Training Data (MultinomialNB):  0.9139255702280913\n"
     ]
    }
   ],
   "source": [
    "# checking accuracy score on training data\n",
    "X_train_prediction_naiveclf = naive_clf.predict(X_train)\n",
    "training_data_accuracy_naiveclf = accuracy_score(X_train_prediction_naiveclf, Y_train)\n",
    "print('Accuracy Score Training Data (MultinomialNB): ', training_data_accuracy_naiveclf)"
   ]
  },
  {
   "cell_type": "code",
   "execution_count": 37,
   "id": "e5ddfde1-e954-48ef-b06d-73981e06b1e9",
   "metadata": {},
   "outputs": [
    {
     "name": "stdout",
     "output_type": "stream",
     "text": [
      "Accuracy Score Testing Data (MultinomialNB):  0.8798076923076923\n"
     ]
    }
   ],
   "source": [
    "# checking accuracy score on testing data\n",
    "X_test_prediction_naiveclf = naive_clf.predict(X_test)\n",
    "testing_data_accuracy_naiveclf = accuracy_score(X_test_prediction_naiveclf, Y_test)\n",
    "print('Accuracy Score Testing Data (MultinomialNB): ', testing_data_accuracy_naiveclf)"
   ]
  },
  {
   "cell_type": "code",
   "execution_count": 38,
   "id": "317b6181-3ca8-437c-b4ac-e297b7eecb42",
   "metadata": {},
   "outputs": [
    {
     "name": "stdout",
     "output_type": "stream",
     "text": [
      "[[8278   52]\n",
      " [1382 6948]]\n"
     ]
    },
    {
     "name": "stderr",
     "output_type": "stream",
     "text": [
      "E:\\Ismt\\AI\\FakeNews\\venv\\lib\\site-packages\\sklearn\\utils\\deprecation.py:87: FutureWarning: Function plot_confusion_matrix is deprecated; Function `plot_confusion_matrix` is deprecated in 1.0 and will be removed in 1.2. Use one of the class methods: ConfusionMatrixDisplay.from_predictions or ConfusionMatrixDisplay.from_estimator.\n",
      "  warnings.warn(msg, category=FutureWarning)\n"
     ]
    },
    {
     "data": {
      "text/plain": [
       "<sklearn.metrics._plot.confusion_matrix.ConfusionMatrixDisplay at 0x17d07b6d040>"
      ]
     },
     "execution_count": 38,
     "metadata": {},
     "output_type": "execute_result"
    },
    {
     "data": {
      "image/png": "[encoded data removed]",
      "text/plain": [
       "<Figure size 432x288 with 2 Axes>"
      ]
     },
     "metadata": {
      "needs_background": "light"
     },
     "output_type": "display_data"
    }
   ],
   "source": [
    "# confusion matrix on training data\n",
    "confusion_matrix_score_train_naiveclf = confusion_matrix(Y_train, X_train_prediction_naiveclf)\n",
    "print(confusion_matrix_score_train_naiveclf)\n",
    "plot_confusion_matrix(naive_clf, X_train, Y_train)"
   ]
  },
  {
   "cell_type": "code",
   "execution_count": 39,
   "id": "0ecfb5e4-71f3-4b7f-9629-584a155bbae2",
   "metadata": {},
   "outputs": [
    {
     "name": "stdout",
     "output_type": "stream",
     "text": [
      "[[2058   19]\n",
      " [ 481 1602]]\n"
     ]
    },
    {
     "name": "stderr",
     "output_type": "stream",
     "text": [
      "E:\\Ismt\\AI\\FakeNews\\venv\\lib\\site-packages\\sklearn\\utils\\deprecation.py:87: FutureWarning: Function plot_confusion_matrix is deprecated; Function `plot_confusion_matrix` is deprecated in 1.0 and will be removed in 1.2. Use one of the class methods: ConfusionMatrixDisplay.from_predictions or ConfusionMatrixDisplay.from_estimator.\n",
      "  warnings.warn(msg, category=FutureWarning)\n"
     ]
    },
    {
     "data": {
      "text/plain": [
       "<sklearn.metrics._plot.confusion_matrix.ConfusionMatrixDisplay at 0x17d07e09070>"
      ]
     },
     "execution_count": 39,
     "metadata": {},
     "output_type": "execute_result"
    },
    {
     "data": {
      "image/png": "[encoded data removed]",
      "text/plain": [
       "<Figure size 432x288 with 2 Axes>"
      ]
     },
     "metadata": {
      "needs_background": "light"
     },
     "output_type": "display_data"
    }
   ],
   "source": [
    "# confusion matrix on testing data\n",
    "confusion_matrix_score_test_naiveclf = confusion_matrix(Y_test, X_test_prediction_naiveclf)\n",
    "print(confusion_matrix_score_test_naiveclf)\n",
    "plot_confusion_matrix(naive_clf, X_test, Y_test)"
   ]
  },
  {
   "cell_type": "code",
   "execution_count": 40,
   "id": "c79f76a3-af08-4ff4-bbe0-e6d5c0af65ef",
   "metadata": {},
   "outputs": [
    {
     "name": "stdout",
     "output_type": "stream",
     "text": [
      "Precision Score on training data (Multinomial NB):  0.9925714285714285\n",
      "Recall Score on training data (Multinomial NB):  0.834093637454982\n"
     ]
    }
   ],
   "source": [
    "# precision and recall score on training data\n",
    "precision_score_train_naiveclf = precision_score(Y_train, X_train_prediction_naiveclf)\n",
    "recall_score_train_naiveclf = recall_score(Y_train, X_train_prediction_naiveclf)\n",
    "print(\"Precision Score on training data (Multinomial NB): \", precision_score_train_naiveclf)\n",
    "print(\"Recall Score on training data (Multinomial NB): \", recall_score_train_naiveclf)"
   ]
  },
  {
   "cell_type": "code",
   "execution_count": 41,
   "id": "f2c76117-ffdf-4003-b594-fce1fb48352b",
   "metadata": {},
   "outputs": [
    {
     "name": "stdout",
     "output_type": "stream",
     "text": [
      "Precision Score on testing data (Multinomial NB):  0.9882788402220851\n",
      "Recall Score on testing data (Multinomial NB):  0.7690830532885262\n"
     ]
    }
   ],
   "source": [
    "# precision and recall score on testing data\n",
    "precision_score_test_naiveclf = precision_score(Y_test, X_test_prediction_naiveclf)\n",
    "recall_score_test_naiveclf = recall_score(Y_test, X_test_prediction_naiveclf)\n",
    "print(\"Precision Score on testing data (Multinomial NB): \", precision_score_test_naiveclf)\n",
    "print(\"Recall Score on testing data (Multinomial NB): \", recall_score_test_naiveclf)"
   ]
  },
  {
   "cell_type": "code",
   "execution_count": 42,
   "id": "905b3b9d-69b2-4d4c-86a7-582eb4fa08ad",
   "metadata": {},
   "outputs": [
    {
     "name": "stdout",
     "output_type": "stream",
     "text": [
      "F1 Score on training data (Multinomial NB):  0.9064579256360078\n"
     ]
    }
   ],
   "source": [
    "# f1 score on training data\n",
    "f1_score_train_naiveclf = f1_score(Y_train, X_train_prediction_naiveclf)\n",
    "print('F1 Score on training data (Multinomial NB): ', f1_score_train_naiveclf)"
   ]
  },
  {
   "cell_type": "code",
   "execution_count": 43,
   "id": "ca86cb7a-9bd6-4c70-af7a-162f804db43b",
   "metadata": {},
   "outputs": [
    {
     "name": "stdout",
     "output_type": "stream",
     "text": [
      "F1 Score on testing data (Multinomial NB):  0.8650107991360693\n"
     ]
    }
   ],
   "source": [
    "# f1 score on testing data\n",
    "f1_score_test_naiveclf = f1_score(Y_test, X_test_prediction_naiveclf)\n",
    "print('F1 Score on testing data (Multinomial NB): ', f1_score_test_naiveclf)"
   ]
  },
  {
   "cell_type": "code",
   "execution_count": 44,
   "id": "e95b7711-6ae6-4b33-bcd6-e673fa97d1b4",
   "metadata": {},
   "outputs": [
    {
     "name": "stdout",
     "output_type": "stream",
     "text": [
      "Classification Report on training data (Multinomial NB): \n",
      "               precision    recall  f1-score   support\n",
      "\n",
      "           0       0.86      0.99      0.92      8330\n",
      "           1       0.99      0.83      0.91      8330\n",
      "\n",
      "    accuracy                           0.91     16660\n",
      "   macro avg       0.92      0.91      0.91     16660\n",
      "weighted avg       0.92      0.91      0.91     16660\n",
      "\n"
     ]
    }
   ],
   "source": [
    "# classification report on training data\n",
    "classification_report_train_naiveclf = classification_report(Y_train,X_train_prediction_naiveclf)\n",
    "print(\"Classification Report on training data (Multinomial NB): \\n\", classification_report_train_naiveclf)"
   ]
  },
  {
   "cell_type": "code",
   "execution_count": 45,
   "id": "64e266c4-8f3f-4868-b6da-b2580daefa2d",
   "metadata": {},
   "outputs": [
    {
     "name": "stdout",
     "output_type": "stream",
     "text": [
      "Classification Report on testing data (Multinomial NB): \n",
      "               precision    recall  f1-score   support\n",
      "\n",
      "           0       0.81      0.99      0.89      2077\n",
      "           1       0.99      0.77      0.87      2083\n",
      "\n",
      "    accuracy                           0.88      4160\n",
      "   macro avg       0.90      0.88      0.88      4160\n",
      "weighted avg       0.90      0.88      0.88      4160\n",
      "\n"
     ]
    }
   ],
   "source": [
    "# classification report on testing data\n",
    "classification_report_test_naiveclf = classification_report(Y_test,X_test_prediction_naiveclf)\n",
    "print(\"Classification Report on testing data (Multinomial NB): \\n\", classification_report_test_naiveclf)"
   ]
  },
  {
   "cell_type": "markdown",
   "id": "8f41476f-fe66-4f47-9939-d5b060967ef8",
   "metadata": {},
   "source": [
    "# SVC"
   ]
  },
  {
   "cell_type": "code",
   "execution_count": 46,
   "id": "0fa01c6f-f208-4940-a461-c6e370ddf37c",
   "metadata": {},
   "outputs": [
    {
     "data": {
      "text/plain": [
       "SVC(probability=True)"
      ]
     },
     "execution_count": 46,
     "metadata": {},
     "output_type": "execute_result"
    }
   ],
   "source": [
    "# training data into Support Vector Classifier\n",
    "svc_clf = SVC(probability=True)\n",
    "svc_clf.fit(X_train, Y_train)"
   ]
  },
  {
   "cell_type": "code",
   "execution_count": 47,
   "id": "3ec1fc29-13ee-47dd-9526-710625510c6f",
   "metadata": {},
   "outputs": [
    {
     "name": "stdout",
     "output_type": "stream",
     "text": [
      "Accuracy Score Training Data (SVC):  0.9987394957983193\n"
     ]
    }
   ],
   "source": [
    "# checking accuracy score on training data\n",
    "X_train_prediction_svcclf = svc_clf.predict(X_train)\n",
    "training_data_accuracy_svcclf = accuracy_score(X_train_prediction_svcclf, Y_train)\n",
    "print('Accuracy Score Training Data (SVC): ', training_data_accuracy_svcclf)"
   ]
  },
  {
   "cell_type": "code",
   "execution_count": 48,
   "id": "745b2eec-a647-441d-b3c6-bb3d22443d1b",
   "metadata": {},
   "outputs": [
    {
     "name": "stdout",
     "output_type": "stream",
     "text": [
      "Accuracy Score Testing Data (SVC):  0.9641826923076923\n"
     ]
    }
   ],
   "source": [
    "# checking accuracy score on testing data\n",
    "X_test_prediction_svcclf = svc_clf.predict(X_test)\n",
    "testing_data_accuracy_svcclf = accuracy_score(X_test_prediction_svcclf, Y_test)\n",
    "print('Accuracy Score Testing Data (SVC): ', testing_data_accuracy_svcclf)"
   ]
  },
  {
   "cell_type": "code",
   "execution_count": 49,
   "id": "ae38d371-f8e4-4f72-8694-2516cba7da1a",
   "metadata": {},
   "outputs": [
    {
     "name": "stdout",
     "output_type": "stream",
     "text": [
      "[[8323    7]\n",
      " [  14 8316]]\n"
     ]
    },
    {
     "name": "stderr",
     "output_type": "stream",
     "text": [
      "E:\\Ismt\\AI\\FakeNews\\venv\\lib\\site-packages\\sklearn\\utils\\deprecation.py:87: FutureWarning: Function plot_confusion_matrix is deprecated; Function `plot_confusion_matrix` is deprecated in 1.0 and will be removed in 1.2. Use one of the class methods: ConfusionMatrixDisplay.from_predictions or ConfusionMatrixDisplay.from_estimator.\n",
      "  warnings.warn(msg, category=FutureWarning)\n"
     ]
    },
    {
     "data": {
      "text/plain": [
       "<sklearn.metrics._plot.confusion_matrix.ConfusionMatrixDisplay at 0x17d073c6490>"
      ]
     },
     "execution_count": 49,
     "metadata": {},
     "output_type": "execute_result"
    },
    {
     "data": {
      "image/png": "[encoded data removed]",
      "text/plain": [
       "<Figure size 432x288 with 2 Axes>"
      ]
     },
     "metadata": {
      "needs_background": "light"
     },
     "output_type": "display_data"
    }
   ],
   "source": [
    "# confusion matrix on training data\n",
    "confusion_matrix_score_train_svcclf = confusion_matrix(Y_train, X_train_prediction_svcclf)\n",
    "print(confusion_matrix_score_train_svcclf)\n",
    "plot_confusion_matrix(svc_clf, X_train, Y_train)"
   ]
  },
  {
   "cell_type": "code",
   "execution_count": 50,
   "id": "92ffd764-237d-4494-88ed-8f4ebfb5b478",
   "metadata": {},
   "outputs": [
    {
     "name": "stdout",
     "output_type": "stream",
     "text": [
      "[[2004   73]\n",
      " [  76 2007]]\n"
     ]
    },
    {
     "name": "stderr",
     "output_type": "stream",
     "text": [
      "E:\\Ismt\\AI\\FakeNews\\venv\\lib\\site-packages\\sklearn\\utils\\deprecation.py:87: FutureWarning: Function plot_confusion_matrix is deprecated; Function `plot_confusion_matrix` is deprecated in 1.0 and will be removed in 1.2. Use one of the class methods: ConfusionMatrixDisplay.from_predictions or ConfusionMatrixDisplay.from_estimator.\n",
      "  warnings.warn(msg, category=FutureWarning)\n"
     ]
    },
    {
     "data": {
      "text/plain": [
       "<sklearn.metrics._plot.confusion_matrix.ConfusionMatrixDisplay at 0x17d0d292820>"
      ]
     },
     "execution_count": 50,
     "metadata": {},
     "output_type": "execute_result"
    },
    {
     "data": {
      "image/png": "[encoded data removed]",
      "text/plain": [
       "<Figure size 432x288 with 2 Axes>"
      ]
     },
     "metadata": {
      "needs_background": "light"
     },
     "output_type": "display_data"
    }
   ],
   "source": [
    "# confusion matrix on testing data\n",
    "confusion_matrix_score_test_svcclf = confusion_matrix(Y_test, X_test_prediction_svcclf)\n",
    "print(confusion_matrix_score_test_svcclf)\n",
    "plot_confusion_matrix(svc_clf, X_test, Y_test)"
   ]
  },
  {
   "cell_type": "code",
   "execution_count": 51,
   "id": "eead212d-9658-4032-89de-aa282aeeee27",
   "metadata": {},
   "outputs": [
    {
     "name": "stdout",
     "output_type": "stream",
     "text": [
      "Precision Score on training data (SVC):  0.9991589571068125\n",
      "Recall Score on training data (SVC):  0.9983193277310924\n"
     ]
    }
   ],
   "source": [
    "# precision and recall score on training data\n",
    "precision_score_train_svcclf = precision_score(Y_train, X_train_prediction_svcclf)\n",
    "recall_score_train_svcclf = recall_score(Y_train, X_train_prediction_svcclf)\n",
    "print(\"Precision Score on training data (SVC): \", precision_score_train_svcclf)\n",
    "print(\"Recall Score on training data (SVC): \", recall_score_train_svcclf)"
   ]
  },
  {
   "cell_type": "code",
   "execution_count": 52,
   "id": "a5e6137e-7026-4af4-ad5f-418a8ab89e16",
   "metadata": {},
   "outputs": [
    {
     "name": "stdout",
     "output_type": "stream",
     "text": [
      "Precision Score on testing data (SVC):  0.9649038461538462\n",
      "Recall Score on testing data (SVC):  0.9635141622659625\n"
     ]
    }
   ],
   "source": [
    "# precision and recall score on testing data\n",
    "precision_score_test_svcclf = precision_score(Y_test, X_test_prediction_svcclf)\n",
    "recall_score_test_svcclf = recall_score(Y_test, X_test_prediction_svcclf)\n",
    "print(\"Precision Score on testing data (SVC): \", precision_score_test_svcclf)\n",
    "print(\"Recall Score on testing data (SVC): \", recall_score_test_svcclf)"
   ]
  },
  {
   "cell_type": "code",
   "execution_count": 53,
   "id": "cea372a5-90aa-47d1-bba8-f2d74b6a721d",
   "metadata": {},
   "outputs": [
    {
     "name": "stdout",
     "output_type": "stream",
     "text": [
      "F1 Score on training data (SVC):  0.9987389659520807\n"
     ]
    }
   ],
   "source": [
    "# f1 score on training data\n",
    "f1_score_train_svcclf = f1_score(Y_train, X_train_prediction_svcclf)\n",
    "print('F1 Score on training data (SVC): ', f1_score_train_svcclf)"
   ]
  },
  {
   "cell_type": "code",
   "execution_count": 54,
   "id": "888c69e1-8902-417e-86c0-a0ea9bc3ad24",
   "metadata": {},
   "outputs": [
    {
     "name": "stdout",
     "output_type": "stream",
     "text": [
      "F1 Score on testing data (SVC):  0.9642085034830652\n"
     ]
    }
   ],
   "source": [
    "# f1 score on testing data\n",
    "f1_score_test_svcclf = f1_score(Y_test, X_test_prediction_svcclf)\n",
    "print('F1 Score on testing data (SVC): ', f1_score_test_svcclf)"
   ]
  },
  {
   "cell_type": "code",
   "execution_count": 55,
   "id": "07869a7d-2bfc-4693-8217-38be9b05c49c",
   "metadata": {},
   "outputs": [
    {
     "name": "stdout",
     "output_type": "stream",
     "text": [
      "Classification Report on training data (SVC): \n",
      "               precision    recall  f1-score   support\n",
      "\n",
      "           0       1.00      1.00      1.00      8330\n",
      "           1       1.00      1.00      1.00      8330\n",
      "\n",
      "    accuracy                           1.00     16660\n",
      "   macro avg       1.00      1.00      1.00     16660\n",
      "weighted avg       1.00      1.00      1.00     16660\n",
      "\n"
     ]
    }
   ],
   "source": [
    "# classification report on training data\n",
    "classification_report_train_svcclf = classification_report(Y_train,X_train_prediction_svcclf)\n",
    "print(\"Classification Report on training data (SVC): \\n\", classification_report_train_svcclf)"
   ]
  },
  {
   "cell_type": "code",
   "execution_count": 56,
   "id": "d8f907c8-45ba-4c50-b0d4-8ec0949116b1",
   "metadata": {},
   "outputs": [
    {
     "name": "stdout",
     "output_type": "stream",
     "text": [
      "Classification Report on testing data (SVC): \n",
      "               precision    recall  f1-score   support\n",
      "\n",
      "           0       0.96      0.96      0.96      2077\n",
      "           1       0.96      0.96      0.96      2083\n",
      "\n",
      "    accuracy                           0.96      4160\n",
      "   macro avg       0.96      0.96      0.96      4160\n",
      "weighted avg       0.96      0.96      0.96      4160\n",
      "\n"
     ]
    }
   ],
   "source": [
    "# classification report on testing data\n",
    "classification_report_test_svcclf = classification_report(Y_test,X_test_prediction_svcclf)\n",
    "print(\"Classification Report on testing data (SVC): \\n\", classification_report_test_svcclf)"
   ]
  },
  {
   "cell_type": "markdown",
   "id": "a3920b8a-6bc3-4a7a-995b-a5a6d001e092",
   "metadata": {},
   "source": [
    "# Visualizing / Comparing "
   ]
  },
  {
   "cell_type": "code",
   "execution_count": 57,
   "id": "4efeb551-36df-474a-a1ff-c670ebb9ce35",
   "metadata": {},
   "outputs": [
    {
     "data": {
      "image/png": "[encoded data removed]",
      "text/plain": [
       "<Figure size 720x360 with 1 Axes>"
      ]
     },
     "metadata": {
      "needs_background": "light"
     },
     "output_type": "display_data"
    }
   ],
   "source": [
    "# visualizing the accuracy score\n",
    "models = ['Logistic Regression', 'MultinomialNB', 'SVC']\n",
    "\n",
    "train_values = [training_data_accuracy_logclf, training_data_accuracy_naiveclf, training_data_accuracy_svcclf]\n",
    "test_values = [testing_data_accuracy_logclf, testing_data_accuracy_naiveclf, testing_data_accuracy_svcclf]\n",
    "\n",
    "train_values = [training_data_accuracy_logclf, training_data_accuracy_naiveclf, training_data_accuracy_svcclf]\n",
    "test_values = [testing_data_accuracy_logclf, testing_data_accuracy_naiveclf, testing_data_accuracy_svcclf]\n",
    "\n",
    "x_axis = np.arange(len(models))\n",
    "\n",
    "plt.figure(figsize=(10,5))\n",
    "\n",
    "plt.bar(x_axis -0.2, train_values, width=0.4, label = 'Train')\n",
    "plt.bar(x_axis +0.2, test_values, width=0.4, label = 'Test')\n",
    "\n",
    "plt.xticks(x_axis, models)\n",
    "\n",
    "plt.legend(bbox_to_anchor =(1, 1.15))\n",
    "plt.title('Accuracy Score of Various Classifier')\n",
    "\n",
    "plt.show()"
   ]
  },
  {
   "cell_type": "code",
   "execution_count": 58,
   "id": "fd60986c-2b4e-4b44-a08c-b8c4b7b06c4a",
   "metadata": {},
   "outputs": [
    {
     "data": {
      "image/png": "[encoded data removed]",
      "text/plain": [
       "<Figure size 720x360 with 2 Axes>"
      ]
     },
     "metadata": {
      "needs_background": "light"
     },
     "output_type": "display_data"
    }
   ],
   "source": [
    "# visualizing the precision and recall score\n",
    "models = ['Logistic Regression', 'MultinomialNB', 'SVC']\n",
    "\n",
    "precision_train_values = [precision_score_train_logclf, precision_score_train_naiveclf, precision_score_train_svcclf]\n",
    "precision_test_values = [precision_score_test_logclf, precision_score_test_naiveclf, precision_score_test_svcclf]\n",
    "\n",
    "recall_train_values = [recall_score_train_logclf, recall_score_train_naiveclf, recall_score_train_svcclf]\n",
    "recall_test_values = [recall_score_test_logclf, recall_score_test_naiveclf, recall_score_test_svcclf]\n",
    "\n",
    "x_axis = np.arange(len(models))\n",
    "plt.figure(figsize=(10,5))\n",
    "\n",
    "plt.subplot(1, 2, 1)\n",
    "plt.bar(x_axis -0.2, precision_train_values, width=0.4, label = 'Train')\n",
    "plt.bar(x_axis +0.2, precision_test_values, width=0.4, label = 'Test')\n",
    "plt.xticks(x_axis, models)\n",
    "plt.title('Precision Score')\n",
    "\n",
    "plt.subplot(1, 2, 2)\n",
    "plt.bar(x_axis -0.2, recall_train_values, width=0.4, label = 'Train')\n",
    "plt.bar(x_axis +0.2, recall_test_values, width=0.4, label = 'Test')\n",
    "\n",
    "plt.xticks(x_axis, models)\n",
    "plt.title('Recall Score')\n",
    "\n",
    "plt.legend(bbox_to_anchor =(1, 1.15))\n",
    "\n",
    "plt.show()"
   ]
  },
  {
   "cell_type": "code",
   "execution_count": 59,
   "id": "47c5f507-b24a-47de-a183-c45f4f1bc761",
   "metadata": {},
   "outputs": [
    {
     "data": {
      "image/png": "[encoded data removed]",
      "text/plain": [
       "<Figure size 720x360 with 1 Axes>"
      ]
     },
     "metadata": {
      "needs_background": "light"
     },
     "output_type": "display_data"
    }
   ],
   "source": [
    "# visualizing the F1 score\n",
    "models = ['Logistic Regression', 'MultinomialNB', 'SVC']\n",
    "\n",
    "train_values = [f1_score_train_logclf, f1_score_train_naiveclf, f1_score_train_svcclf]\n",
    "test_values = [f1_score_test_logclf, f1_score_test_naiveclf, f1_score_test_svcclf]\n",
    "\n",
    "x_axis = np.arange(len(models))\n",
    "\n",
    "plt.figure(figsize=(10,5))\n",
    "\n",
    "\n",
    "plt.bar(x_axis -0.2, train_values, width=0.4, label = 'Train')\n",
    "plt.bar(x_axis +0.2, test_values, width=0.4, label = 'Test')\n",
    "\n",
    "plt.xticks(x_axis, models)\n",
    "\n",
    "plt.legend(bbox_to_anchor =(1, 1.15))\n",
    "plt.title('F1 Score of Various Classifier')\n",
    "plt.grid(True, color = \"grey\", linewidth = \"0.2\", linestyle = \"-.\")\n",
    "\n",
    "def add_values(x, y):\n",
    "    for i in range(len(x)):\n",
    "        plt.text(i, y[i], y[i])\n",
    "\n",
    "add_values(models, train_values)\n",
    "add_values(models, test_values)\n",
    "\n",
    "plt.show()"
   ]
  },
  {
   "cell_type": "code",
   "execution_count": 60,
   "id": "74f46ecc-815d-475d-b03e-55ab93fd164d",
   "metadata": {},
   "outputs": [],
   "source": [
    "from sklearn.metrics import roc_auc_score, roc_curve"
   ]
  },
  {
   "cell_type": "code",
   "execution_count": 61,
   "id": "82a60cf2-f3e6-459a-9c5f-3b53e7c64100",
   "metadata": {},
   "outputs": [],
   "source": [
    "log_pred_prob = log_clf.predict_proba(X_test)"
   ]
  },
  {
   "cell_type": "code",
   "execution_count": 62,
   "id": "9132b4a6-1fec-414f-bfcc-f29bd342770b",
   "metadata": {},
   "outputs": [],
   "source": [
    "naive_pred_prob = naive_clf.predict_proba(X_test)"
   ]
  },
  {
   "cell_type": "code",
   "execution_count": 63,
   "id": "76d869b3-c222-4afd-b2a8-2f522c568ca1",
   "metadata": {},
   "outputs": [],
   "source": [
    "svc_pred_prob = svc_clf.predict_proba(X_test)"
   ]
  },
  {
   "cell_type": "code",
   "execution_count": 64,
   "id": "36f30e5d-9bb9-4364-abf5-edbfdec08628",
   "metadata": {},
   "outputs": [],
   "source": [
    "auc_score_log = roc_auc_score(Y_test, log_pred_prob[:, 1])\n",
    "auc_score_naive = roc_auc_score(Y_test, naive_pred_prob[:, 1])\n",
    "auc_score_svc = roc_auc_score(Y_test, svc_pred_prob[:, 1])"
   ]
  },
  {
   "cell_type": "code",
   "execution_count": 65,
   "id": "285e4801-a0b5-4200-8390-b63e18a0629c",
   "metadata": {},
   "outputs": [
    {
     "data": {
      "image/png": "[encoded data removed]",
      "text/plain": [
       "<Figure size 576x396 with 1 Axes>"
      ]
     },
     "metadata": {},
     "output_type": "display_data"
    }
   ],
   "source": [
    "fpr1, tpr1, thres1 = roc_curve(Y_test, log_pred_prob[:,1], pos_label=1)\n",
    "fpr2, tpr2, thres2 = roc_curve(Y_test, naive_pred_prob[:,1], pos_label=1)\n",
    "fpr3, tpr3, thres3 = roc_curve(Y_test, svc_pred_prob[:,1], pos_label=1)\n",
    "\n",
    "plt.style.use('seaborn')\n",
    "\n",
    "plt.plot(fpr1, tpr1, linestyle='--', color='orange', label='Logistic Regression')\n",
    "plt.plot(fpr2, tpr2, linestyle='--', color='green', label='Multinomial NB')\n",
    "plt.plot(fpr3, tpr3, linestyle='--', color='blue', label='SVC')\n",
    "\n",
    "plt.title('ROC Curve')\n",
    "\n",
    "plt.xlabel('False Positive Rate')\n",
    "plt.ylabel('True Positive Rate')\n",
    "\n",
    "plt.legend(loc='best')\n",
    "\n",
    "plt.show()"
   ]
  },
  {
   "cell_type": "markdown",
   "id": "85e752b0-712f-4456-98a6-7ffa086d7d50",
   "metadata": {},
   "source": [
    "## Saving the finalized model SVC"
   ]
  },
  {
   "cell_type": "code",
   "execution_count": 66,
   "id": "9ffb5d6d-4046-4069-a756-f6984f5f03fd",
   "metadata": {},
   "outputs": [],
   "source": [
    "import pickle\n",
    "finalized_clf = 'fake_news_clf.sav'\n",
    "pickle.dump(svc_clf, open(finalized_clf, 'wb'))\n"
   ]
  },
  {
   "cell_type": "markdown",
   "id": "2e1e8f18-9226-45b8-b354-2f7fcdbe49b6",
   "metadata": {},
   "source": [
    "# Predicting the news"
   ]
  },
  {
   "cell_type": "code",
   "execution_count": 67,
   "id": "65253f83-bbff-4510-91da-548c94ca8fc8",
   "metadata": {},
   "outputs": [],
   "source": [
    "# loading the saved model\n",
    "classifier = pickle.load(open('fake_news_clf.sav', 'rb'))"
   ]
  },
  {
   "cell_type": "code",
   "execution_count": 140,
   "id": "c5b0386f-6e27-4445-a164-5585d0cde916",
   "metadata": {},
   "outputs": [
    {
     "name": "stdin",
     "output_type": "stream",
     "text": [
      "Enter the news to predict:  House Dem Aide: We Didnâ€™t Even See Comeyâ€™s Letter Until Jason Chaffetz Tweeted It By Darrell Lucus on October 30, 2016 Subscribe Jason Chaffetz on the stump in American Fork, Utah ( image courtesy Michael Jolley, available under a Creative Commons-BY license)  With apologies to Keith Olbermann, there is no doubt who the Worst Person in The World is this weekâ€“FBI Director James Comey. But according to a House Democratic aide, it looks like we also know who the second-worst person is as well. It turns out that when Comey sent his now-infamous letter announcing that the FBI was looking into emails that may be related to Hillary Clintonâ€™s email server, the ranking Democrats on the relevant committees didnâ€™t hear about it from Comey. They found out via a tweet from one of the Republican committee chairmen.  As we now know, Comey notified the Republican chairmen and Democratic ranking members of the House Intelligence, Judiciary, and Oversight committees that his agency was reviewing emails it had recently discovered in order to see if they contained classified information. Not long after this letter went out, Oversight Committee Chairman Jason Chaffetz set the political world ablaze with this tweet. FBI Dir just informed me, \"The FBI has learned of the existence of emails that appear to be pertinent to the investigation.\" Case reopened  â€” Jason Chaffetz (@jasoninthehouse) October 28, 2016  Of course, we now know that this was not the case . Comey was actually saying that it was reviewing the emails in light of â€œan unrelated caseâ€â€“which we now know to be Anthony Weinerâ€™s sexting with a teenager. But apparently such little things as facts didnâ€™t matter to Chaffetz. The Utah Republican had already vowed to initiate a raft of investigations if Hillary winsâ€“at least two yearsâ€™ worth, and possibly an entire termâ€™s worth of them. Apparently Chaffetz thought the FBI was already doing his work for himâ€“resulting in a tweet that briefly roiled the nation before cooler heads realized it was a dud.  But according to a senior House Democratic aide, misreading that letter may have been the least of Chaffetzâ€™ sins. That aide told Shareblue that his boss and other Democrats didnâ€™t even know about Comeyâ€™s letter at the timeâ€“and only found out when they checked Twitter. â€œDemocratic Ranking Members on the relevant committees didnâ€™t receive Comeyâ€™s letter until after the Republican Chairmen. In fact, the Democratic Ranking Members didnâ€™ receive it until after the Chairman of the Oversight and Government Reform Committee, Jason Chaffetz, tweeted it out and made it public.â€  So letâ€™s see if weâ€™ve got this right. The FBI director tells Chaffetz and other GOP committee chairmen about a major development in a potentially politically explosive investigation, and neither Chaffetz nor his other colleagues had the courtesy to let their Democratic counterparts know about it. Instead, according to this aide, he made them find out about it on Twitter.  There has already been talk on Daily Kos that Comey himself provided advance notice of this letter to Chaffetz and other Republicans, giving them time to turn on the spin machine. That may make for good theater, but there is nothing so far that even suggests this is the case. After all, there is nothing so far that suggests that Comey was anything other than grossly incompetent and tone-deaf.  What it does suggest, however, is that Chaffetz is acting in a way that makes Dan Burton and Darrell Issa look like models of responsibility and bipartisanship. He didnâ€™t even have the decency to notify ranking member Elijah Cummings about something this explosive. If that doesnâ€™t trample on basic standards of fairness, I donâ€™t know what does.  Granted, itâ€™s not likely that Chaffetz will have to answer for this. He sits in a ridiculously Republican district anchored in Provo and Orem; it has a Cook Partisan Voting Index of R+25, and gave Mitt Romney a punishing 78 percent of the vote in 2012. Moreover, the Republican House leadership has given its full support to Chaffetzâ€™ planned fishing expedition. But that doesnâ€™t mean we canâ€™t turn the hot lights on him. After all, he is a textbook example of what the House has become under Republican control. And he is also the Second Worst Person in the World. About Darrell Lucus  Darrell is a 30-something graduate of the University of North Carolina who considers himself a journalist of the old school. An attempt to turn him into a member of the religious right in college only succeeded in turning him into the religious right's worst nightmare--a charismatic Christian who is an unapologetic liberal. His desire to stand up for those who have been scared into silence only increased when he survived an abusive three-year marriage. You may know him on Daily Kos as Christian Dem in NC . Follow him on Twitter @DarrellLucus or connect with him on Facebook . Click here to buy Darrell a Mello Yello. Connect\n"
     ]
    }
   ],
   "source": [
    "# take user input for mail\n",
    "news_to_predict = input('Enter the news to predict: ')\n",
    "\n",
    "# function to tokenize and lemmatize the user input\n",
    "def news_tokenize_lemmatize(text):\n",
    "    news = text.replace('[^a-zA-Z]',' ')\n",
    "    news = news.lower()\n",
    "    tokenizer = nltk.tokenize.WhitespaceTokenizer()\n",
    "    tokenized = tokenizer.tokenize(news)\n",
    "    lemmatized_output = ' '.join([lemmatizer.lemmatize(w) for w in tokenized])\n",
    "    return lemmatized_output\n",
    "# process the user input value for tokenization and lemmatization\n",
    "processed_news = news_tokenize_lemmatize(news_to_predict)"
   ]
  },
  {
   "cell_type": "code",
   "execution_count": 144,
   "id": "7dcc49d0-3b01-4159-a755-318ec5ee2ad0",
   "metadata": {},
   "outputs": [
    {
     "name": "stdout",
     "output_type": "stream",
     "text": [
      "It is fake news.\n"
     ]
    }
   ],
   "source": [
    "# extracting the featurs from the lemmatized news\n",
    "vectorized_news = vectorizer.transform([processed_news])\n",
    "\n",
    "# predict the classification of news\n",
    "news_prediction = classifier.predict(vectorized_news)\n",
    "\n",
    "# function to classify the news\n",
    "def news_classification(predicted):\n",
    "    if predicted == 0:\n",
    "        print('It is not fake news.')\n",
    "    elif predicted == 1:\n",
    "        print('It is fake news.')\n",
    "\n",
    "# get the classification of news based on the predicted value\n",
    "classity_news = news_classification(news_prediction)"
   ]
  },
  {
   "cell_type": "code",
   "execution_count": null,
   "id": "c65d1311-e0ba-4544-b851-32b4468da2bc",
   "metadata": {},
   "outputs": [],
   "source": []
  }
 ],
 "metadata": {
  "kernelspec": {
   "display_name": "Python 3 (ipykernel)",
   "language": "python",
   "name": "python3"
  },
  "language_info": {
   "codemirror_mode": {
    "name": "ipython",
    "version": 3
   },
   "file_extension": ".py",
   "mimetype": "text/x-python",
   "name": "python",
   "nbconvert_exporter": "python",
   "pygments_lexer": "ipython3",
   "version": "3.9.7"
  }
 },
 "nbformat": 4,
 "nbformat_minor": 5
}
