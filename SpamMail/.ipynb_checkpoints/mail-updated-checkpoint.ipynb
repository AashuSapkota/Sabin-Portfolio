{
 "cells": [
  {
   "cell_type": "code",
   "execution_count": 2,
   "id": "0568102c-e040-4cf0-be03-6b48ead515a2",
   "metadata": {},
   "outputs": [],
   "source": [
    "## import necessary libraries\n",
    "import numpy as np\n",
    "import pandas as pd\n",
    "from sklearn.model_selection import train_test_split\n",
    "from sklearn.feature_extraction.text import TfidfVectorizer\n",
    "from sklearn.linear_model import LogisticRegression\n",
    "from sklearn.metrics import confusion_matrix, classification_report, plot_confusion_matrix\n",
    "from sklearn.metrics import  accuracy_score, precision_score, recall_score, f1_score, PrecisionRecallDisplay\n",
    "from imblearn.over_sampling import SMOTE\n",
    "from nltk.corpus import stopwords\n",
    "from nltk.stem import PorterStemmer\n",
    "import re\n",
    "from sklearn.ensemble import RandomForestClassifier\n",
    "from sklearn.neighbors import KNeighborsClassifier"
   ]
  },
  {
   "cell_type": "code",
   "execution_count": 3,
   "id": "bae2fb2a-8d52-4a7e-8f89-dc113052d20f",
   "metadata": {},
   "outputs": [],
   "source": [
    "## reading data\n",
    "data = pd.read_csv('datasets/mail_data.csv')"
   ]
  },
  {
   "cell_type": "code",
   "execution_count": 4,
   "id": "f33ad382-8174-410a-b089-a438f41baea8",
   "metadata": {},
   "outputs": [
    {
     "name": "stdout",
     "output_type": "stream",
     "text": [
      "<class 'pandas.core.frame.DataFrame'>\n",
      "RangeIndex: 5572 entries, 0 to 5571\n",
      "Data columns (total 2 columns):\n",
      " #   Column    Non-Null Count  Dtype \n",
      "---  ------    --------------  ----- \n",
      " 0   Category  5572 non-null   object\n",
      " 1   Message   5572 non-null   object\n",
      "dtypes: object(2)\n",
      "memory usage: 87.2+ KB\n"
     ]
    }
   ],
   "source": [
    "## exploring the dataset\n",
    "data.info()"
   ]
  },
  {
   "cell_type": "code",
   "execution_count": 5,
   "id": "a938599b-413b-4a60-b18d-5f6978119ae8",
   "metadata": {},
   "outputs": [
    {
     "data": {
      "text/html": [
       "<div>\n",
       "<style scoped>\n",
       "    .dataframe tbody tr th:only-of-type {\n",
       "        vertical-align: middle;\n",
       "    }\n",
       "\n",
       "    .dataframe tbody tr th {\n",
       "        vertical-align: top;\n",
       "    }\n",
       "\n",
       "    .dataframe thead th {\n",
       "        text-align: right;\n",
       "    }\n",
       "</style>\n",
       "<table border=\"1\" class=\"dataframe\">\n",
       "  <thead>\n",
       "    <tr style=\"text-align: right;\">\n",
       "      <th></th>\n",
       "      <th>Category</th>\n",
       "      <th>Message</th>\n",
       "    </tr>\n",
       "  </thead>\n",
       "  <tbody>\n",
       "    <tr>\n",
       "      <th>count</th>\n",
       "      <td>5572</td>\n",
       "      <td>5572</td>\n",
       "    </tr>\n",
       "    <tr>\n",
       "      <th>unique</th>\n",
       "      <td>2</td>\n",
       "      <td>5157</td>\n",
       "    </tr>\n",
       "    <tr>\n",
       "      <th>top</th>\n",
       "      <td>ham</td>\n",
       "      <td>Sorry, I'll call later</td>\n",
       "    </tr>\n",
       "    <tr>\n",
       "      <th>freq</th>\n",
       "      <td>4825</td>\n",
       "      <td>30</td>\n",
       "    </tr>\n",
       "  </tbody>\n",
       "</table>\n",
       "</div>"
      ],
      "text/plain": [
       "       Category                 Message\n",
       "count      5572                    5572\n",
       "unique        2                    5157\n",
       "top         ham  Sorry, I'll call later\n",
       "freq       4825                      30"
      ]
     },
     "execution_count": 5,
     "metadata": {},
     "output_type": "execute_result"
    }
   ],
   "source": [
    "## exploring the dataset\n",
    "data.describe()"
   ]
  },
  {
   "cell_type": "code",
   "execution_count": 6,
   "id": "50c05873-4de7-4885-a108-fa015f5b099d",
   "metadata": {},
   "outputs": [
    {
     "data": {
      "text/plain": [
       "(5572, 2)"
      ]
     },
     "execution_count": 6,
     "metadata": {},
     "output_type": "execute_result"
    }
   ],
   "source": [
    "## exploring the dataset\n",
    "data.shape"
   ]
  },
  {
   "cell_type": "code",
   "execution_count": 7,
   "id": "1c33a0d1-8718-4d0e-91df-06449f52dbe1",
   "metadata": {},
   "outputs": [
    {
     "data": {
      "text/html": [
       "<div>\n",
       "<style scoped>\n",
       "    .dataframe tbody tr th:only-of-type {\n",
       "        vertical-align: middle;\n",
       "    }\n",
       "\n",
       "    .dataframe tbody tr th {\n",
       "        vertical-align: top;\n",
       "    }\n",
       "\n",
       "    .dataframe thead th {\n",
       "        text-align: right;\n",
       "    }\n",
       "</style>\n",
       "<table border=\"1\" class=\"dataframe\">\n",
       "  <thead>\n",
       "    <tr style=\"text-align: right;\">\n",
       "      <th></th>\n",
       "      <th>Category</th>\n",
       "      <th>Message</th>\n",
       "    </tr>\n",
       "  </thead>\n",
       "  <tbody>\n",
       "    <tr>\n",
       "      <th>0</th>\n",
       "      <td>ham</td>\n",
       "      <td>Go until jurong point, crazy.. Available only ...</td>\n",
       "    </tr>\n",
       "    <tr>\n",
       "      <th>1</th>\n",
       "      <td>ham</td>\n",
       "      <td>Ok lar... Joking wif u oni...</td>\n",
       "    </tr>\n",
       "    <tr>\n",
       "      <th>2</th>\n",
       "      <td>spam</td>\n",
       "      <td>Free entry in 2 a wkly comp to win FA Cup fina...</td>\n",
       "    </tr>\n",
       "    <tr>\n",
       "      <th>3</th>\n",
       "      <td>ham</td>\n",
       "      <td>U dun say so early hor... U c already then say...</td>\n",
       "    </tr>\n",
       "    <tr>\n",
       "      <th>4</th>\n",
       "      <td>ham</td>\n",
       "      <td>Nah I don't think he goes to usf, he lives aro...</td>\n",
       "    </tr>\n",
       "  </tbody>\n",
       "</table>\n",
       "</div>"
      ],
      "text/plain": [
       "  Category                                            Message\n",
       "0      ham  Go until jurong point, crazy.. Available only ...\n",
       "1      ham                      Ok lar... Joking wif u oni...\n",
       "2     spam  Free entry in 2 a wkly comp to win FA Cup fina...\n",
       "3      ham  U dun say so early hor... U c already then say...\n",
       "4      ham  Nah I don't think he goes to usf, he lives aro..."
      ]
     },
     "execution_count": 7,
     "metadata": {},
     "output_type": "execute_result"
    }
   ],
   "source": [
    "## exploring the dataset\n",
    "data.head()"
   ]
  },
  {
   "cell_type": "code",
   "execution_count": 8,
   "id": "cd45efaa-d217-4206-b99a-a62bfc1f057a",
   "metadata": {},
   "outputs": [
    {
     "data": {
      "text/plain": [
       "Category    0\n",
       "Message     0\n",
       "dtype: int64"
      ]
     },
     "execution_count": 8,
     "metadata": {},
     "output_type": "execute_result"
    }
   ],
   "source": [
    "# checking null values in data\n",
    "data.isnull().sum()"
   ]
  },
  {
   "cell_type": "code",
   "execution_count": 9,
   "id": "5aedfbe7-3219-45f3-bcb3-1e3ccddcc6a8",
   "metadata": {},
   "outputs": [],
   "source": [
    "# since the target value 'category' is in string,\n",
    "# lets convert 'spam' value to '1' and 'ham' value to '0'\n",
    "data.loc[data['Category'] == 'spam', 'Category',] = 1\n",
    "data.loc[data['Category'] == 'ham', 'Category',] = 0"
   ]
  },
  {
   "cell_type": "code",
   "execution_count": 10,
   "id": "8088e3a6-4da3-4ad4-9464-bab8ceac5cbb",
   "metadata": {},
   "outputs": [],
   "source": [
    "# stemming (reducing a word to its root word)\n",
    "port_stem = PorterStemmer()\n",
    "\n",
    "def stemming(content):\n",
    "    stemmed_content = re.sub('[^a-zA-Z]', ' ', content)\n",
    "    stemmed_content = stemmed_content.lower()\n",
    "    stemmed_content = stemmed_content.split()\n",
    "    stemmed_content = [port_stem.stem(word) for word in stemmed_content if not word in stopwords.words('english')]\n",
    "    stemmed_content = ' '.join(stemmed_content)\n",
    "    return stemmed_content"
   ]
  },
  {
   "cell_type": "code",
   "execution_count": 12,
   "id": "e4745402-1042-499d-b5b1-0e6dccf2b78e",
   "metadata": {},
   "outputs": [],
   "source": [
    "data['Message'] = data['Message'].apply(stemming)"
   ]
  },
  {
   "cell_type": "code",
   "execution_count": 13,
   "id": "a38f2f05-9298-4d5a-b78b-4b0271b5936a",
   "metadata": {},
   "outputs": [],
   "source": [
    "# separating the data into X and Y\n",
    "X = data['Message'].values\n",
    "Y = data['Category'].values\n",
    "Y = Y.astype('int')"
   ]
  },
  {
   "cell_type": "code",
   "execution_count": 14,
   "id": "f38312c1-ea6d-4a5a-a0b7-b5d96e5d79a5",
   "metadata": {},
   "outputs": [],
   "source": [
    "# converting the textual to feature vectors\n",
    "vectorizer = TfidfVectorizer()\n",
    "vectorizer.fit(X)\n",
    "\n",
    "X = vectorizer.transform(X)"
   ]
  },
  {
   "cell_type": "code",
   "execution_count": 14,
   "id": "52867f65-4a7f-452b-b351-0d35fd4190f1",
   "metadata": {},
   "outputs": [],
   "source": [
    "# splitting the dataset to training and test\n",
    "X_train, X_test, Y_train, Y_test = train_test_split(X, Y, test_size = 0.2, stratify=Y, random_state=2)"
   ]
  },
  {
   "cell_type": "code",
   "execution_count": 15,
   "id": "14cc2a21-48b7-4489-a734-27946d1dec1f",
   "metadata": {},
   "outputs": [
    {
     "name": "stdout",
     "output_type": "stream",
     "text": [
      "<class 'scipy.sparse._csr.csr_matrix'>\n"
     ]
    }
   ],
   "source": [
    "print(type(X_test[0]))"
   ]
  },
  {
   "cell_type": "code",
   "execution_count": 16,
   "id": "aa7030ca-7e9a-4f3e-8bd5-8e8630162b27",
   "metadata": {},
   "outputs": [
    {
     "name": "stdout",
     "output_type": "stream",
     "text": [
      "598\n",
      "3859\n"
     ]
    }
   ],
   "source": [
    "# checking the imbalanceness of training data\n",
    "print((Y_train==1).sum())\n",
    "\n",
    "print((Y_train==0).sum())"
   ]
  },
  {
   "cell_type": "code",
   "execution_count": 17,
   "id": "90b9f688-9c3f-4e25-950a-0a5d2d2abd2a",
   "metadata": {},
   "outputs": [],
   "source": [
    "# since the training data in imbalanced\n",
    "# lets balance the data using SMOTE\n",
    "balance = SMOTE()\n",
    "X_train, Y_train = balance.fit_resample(X_train, Y_train)"
   ]
  },
  {
   "cell_type": "code",
   "execution_count": 18,
   "id": "b18ca9fb-f69d-41e7-bc1a-d6a8f2134f06",
   "metadata": {},
   "outputs": [
    {
     "name": "stdout",
     "output_type": "stream",
     "text": [
      "3859\n",
      "3859\n"
     ]
    }
   ],
   "source": [
    "# verifying the balanced data\n",
    "print((Y_train==1).sum())\n",
    "\n",
    "print((Y_train==0).sum())"
   ]
  },
  {
   "cell_type": "markdown",
   "id": "d77e0fa7-d616-4524-ab50-14c104f13642",
   "metadata": {},
   "source": [
    "<h1>Logistic Regression</h1>"
   ]
  },
  {
   "cell_type": "code",
   "execution_count": 19,
   "id": "2694e3bf-f673-47d2-92b8-40f4b0b97285",
   "metadata": {},
   "outputs": [],
   "source": [
    "# training the model: Logoistic Regression Model\n",
    "logistic_classifier = LogisticRegression()"
   ]
  },
  {
   "cell_type": "code",
   "execution_count": 20,
   "id": "e1f515a0-d7f4-4b54-bc34-64890886e06a",
   "metadata": {},
   "outputs": [
    {
     "data": {
      "text/plain": [
       "LogisticRegression()"
      ]
     },
     "execution_count": 20,
     "metadata": {},
     "output_type": "execute_result"
    }
   ],
   "source": [
    "logistic_classifier.fit(X_train, Y_train)"
   ]
  },
  {
   "cell_type": "code",
   "execution_count": 21,
   "id": "a0c29066-321e-4716-812e-0c181bf8603b",
   "metadata": {},
   "outputs": [],
   "source": [
    "# evaluation\n",
    "# accuracy score on training data\n",
    "X_train_prediction = logistic_classifier.predict(X_train)\n",
    "training_data_accuracy = accuracy_score(X_train_prediction, Y_train)"
   ]
  },
  {
   "cell_type": "code",
   "execution_count": 22,
   "id": "40b681ce-bf01-4ff3-8c7e-2a6923405d8f",
   "metadata": {},
   "outputs": [
    {
     "name": "stdout",
     "output_type": "stream",
     "text": [
      "Accuracy Score:  0.9906711583311739\n"
     ]
    }
   ],
   "source": [
    "print('Accuracy Score: ', training_data_accuracy)"
   ]
  },
  {
   "cell_type": "code",
   "execution_count": 23,
   "id": "7f453adc-e627-4c24-a344-8e82277d6aa9",
   "metadata": {},
   "outputs": [],
   "source": [
    "# accuracy score on testing data\n",
    "X_test_prediction = logistic_classifier.predict(X_test)\n",
    "testing_data_accuracy = accuracy_score(X_test_prediction, Y_test)"
   ]
  },
  {
   "cell_type": "code",
   "execution_count": 24,
   "id": "85e0d60c-8829-4224-b8bb-e300cf439918",
   "metadata": {},
   "outputs": [
    {
     "name": "stdout",
     "output_type": "stream",
     "text": [
      "Accuracy Score:  0.9811659192825112\n"
     ]
    }
   ],
   "source": [
    "print('Accuracy Score: ', testing_data_accuracy)"
   ]
  },
  {
   "cell_type": "code",
   "execution_count": 25,
   "id": "d7256eab-dcbc-4d39-8462-26f1c14bdaa2",
   "metadata": {},
   "outputs": [
    {
     "name": "stdout",
     "output_type": "stream",
     "text": [
      "0.9924577373211964\n"
     ]
    }
   ],
   "source": [
    "# precision score for training data on logistic regression\n",
    "precision_train_logistic = precision_score(Y_train, X_train_prediction)\n",
    "print(precision_train_logistic)"
   ]
  },
  {
   "cell_type": "code",
   "execution_count": 26,
   "id": "e08fb8ff-d316-462b-b301-80ac63a599b8",
   "metadata": {},
   "outputs": [
    {
     "name": "stdout",
     "output_type": "stream",
     "text": [
      "0.9571428571428572\n"
     ]
    }
   ],
   "source": [
    "# precision score for testing data on logistic regression\n",
    "precision_test_logistic = precision_score(Y_test, X_test_prediction)\n",
    "print(precision_test_logistic)"
   ]
  },
  {
   "cell_type": "code",
   "execution_count": 27,
   "id": "b57ec485-a9e7-424a-9769-a5e995bff7d3",
   "metadata": {},
   "outputs": [
    {
     "name": "stdout",
     "output_type": "stream",
     "text": [
      "0.9888572168955688\n"
     ]
    }
   ],
   "source": [
    "# recall score for training data on logistic regression\n",
    "recall_train_logistic = recall_score(Y_train, X_train_prediction)\n",
    "print(recall_train_logistic)"
   ]
  },
  {
   "cell_type": "code",
   "execution_count": 28,
   "id": "32db89ae-ba66-4aa9-80b5-e76e27a8f112",
   "metadata": {},
   "outputs": [
    {
     "name": "stdout",
     "output_type": "stream",
     "text": [
      "0.8993288590604027\n"
     ]
    }
   ],
   "source": [
    "# recall score for testing data on logistic regression\n",
    "recall_test_logistic = recall_score(Y_test, X_test_prediction)\n",
    "print(recall_test_logistic)"
   ]
  },
  {
   "cell_type": "code",
   "execution_count": 29,
   "id": "d0ad3d25-c203-425a-9381-85dfbb9bc0d9",
   "metadata": {},
   "outputs": [
    {
     "name": "stdout",
     "output_type": "stream",
     "text": [
      "              precision    recall  f1-score   support\n",
      "\n",
      "           0       0.98      0.99      0.99       966\n",
      "           1       0.96      0.90      0.93       149\n",
      "\n",
      "    accuracy                           0.98      1115\n",
      "   macro avg       0.97      0.95      0.96      1115\n",
      "weighted avg       0.98      0.98      0.98      1115\n",
      "\n"
     ]
    }
   ],
   "source": [
    "# classification report for testing data on logistic regression\n",
    "print(classification_report(Y_test,X_test_prediction))"
   ]
  },
  {
   "cell_type": "code",
   "execution_count": 30,
   "id": "6a7ebb2a-5422-4779-b90f-b6e7a37a80ec",
   "metadata": {},
   "outputs": [
    {
     "data": {
      "image/png": "[encoded data removed]",
      "text/plain": [
       "<Figure size 432x288 with 1 Axes>"
      ]
     },
     "metadata": {
      "needs_background": "light"
     },
     "output_type": "display_data"
    }
   ],
   "source": [
    "# precision recall score chart for training data on logistic regression\n",
    "chart = PrecisionRecallDisplay.from_estimator(\n",
    "    logistic_classifier, X_train, Y_train, name=\"LogisticRegression\"\n",
    ")\n",
    "display = chart.ax_.set_title(\"Precision-Recall curve\")"
   ]
  },
  {
   "cell_type": "code",
   "execution_count": 31,
   "id": "99a95369-5961-4c26-9df6-3f9fc0e8484a",
   "metadata": {},
   "outputs": [
    {
     "data": {
      "image/png": "[encoded data removed]",
      "text/plain": [
       "<Figure size 432x288 with 1 Axes>"
      ]
     },
     "metadata": {
      "needs_background": "light"
     },
     "output_type": "display_data"
    }
   ],
   "source": [
    "# precision recall score chart for testing data on logistic regression\n",
    "chart = PrecisionRecallDisplay.from_estimator(\n",
    "    logistic_classifier, X_test, Y_test, name=\"LogisticRegression\"\n",
    ")\n",
    "display = chart.ax_.set_title(\"Precision-Recall curve\")"
   ]
  },
  {
   "cell_type": "markdown",
   "id": "1f3c0d26-edc1-4f03-bf40-7589c25dc868",
   "metadata": {},
   "source": [
    "<h1>Random Forest Classifier</h1>"
   ]
  },
  {
   "cell_type": "code",
   "execution_count": 32,
   "id": "88f80cd7-a62d-4de4-adba-a7a1d04be69b",
   "metadata": {},
   "outputs": [],
   "source": [
    "# initializing the class RandomForestClassifier\n",
    "rfc = RandomForestClassifier(max_depth=2, random_state=0)"
   ]
  },
  {
   "cell_type": "code",
   "execution_count": 33,
   "id": "25e361aa-63a0-47de-827b-c7cf1f8fa46f",
   "metadata": {},
   "outputs": [
    {
     "data": {
      "text/plain": [
       "RandomForestClassifier(max_depth=2, random_state=0)"
      ]
     },
     "execution_count": 33,
     "metadata": {},
     "output_type": "execute_result"
    }
   ],
   "source": [
    "# training the classifier with train data\n",
    "rfc.fit(X_train, Y_train)"
   ]
  },
  {
   "cell_type": "code",
   "execution_count": 34,
   "id": "9f15ee1b-3515-4156-a51a-e611db219295",
   "metadata": {},
   "outputs": [
    {
     "data": {
      "text/plain": [
       "0.9236848924591863"
      ]
     },
     "execution_count": 34,
     "metadata": {},
     "output_type": "execute_result"
    }
   ],
   "source": [
    "# accuracy score on train data for rfc\n",
    "X_train_prediction_rfc = rfc.predict(X_train)\n",
    "training_data_accuracy_rfc = accuracy_score(X_train_prediction_rfc, Y_train)\n",
    "training_data_accuracy_rfc"
   ]
  },
  {
   "cell_type": "code",
   "execution_count": 35,
   "id": "122bd641-efb0-4daf-96b6-c698886c611f",
   "metadata": {},
   "outputs": [
    {
     "data": {
      "text/plain": [
       "0.9515695067264573"
      ]
     },
     "execution_count": 35,
     "metadata": {},
     "output_type": "execute_result"
    }
   ],
   "source": [
    "# accuracy score on test data for rfc\n",
    "X_test_prediction_rfc = rfc.predict(X_test)\n",
    "testing_data_accuracy_rfc = accuracy_score(X_test_prediction_rfc, Y_test)\n",
    "testing_data_accuracy_rfc"
   ]
  },
  {
   "cell_type": "code",
   "execution_count": 36,
   "id": "f705c3ce-77c0-4abc-96aa-1ad175fbc9f6",
   "metadata": {},
   "outputs": [
    {
     "data": {
      "text/plain": [
       "array([[3851,    8],\n",
       "       [ 581, 3278]], dtype=int64)"
      ]
     },
     "execution_count": 36,
     "metadata": {},
     "output_type": "execute_result"
    }
   ],
   "source": [
    "# confusion matric for training data on rfc\n",
    "confusion_matrix_train_rfc = confusion_matrix(Y_train, X_train_prediction_rfc)\n",
    "confusion_matrix_train_rfc"
   ]
  },
  {
   "cell_type": "code",
   "execution_count": 37,
   "id": "8b172c6d-f68d-4485-9f53-7f11ad3a5c43",
   "metadata": {},
   "outputs": [
    {
     "data": {
      "text/plain": [
       "array([[964,   2],\n",
       "       [ 52,  97]], dtype=int64)"
      ]
     },
     "execution_count": 37,
     "metadata": {},
     "output_type": "execute_result"
    }
   ],
   "source": [
    "# confusion matrix for testing data on rfc\n",
    "confusion_matrix_test_rfc = confusion_matrix(Y_test, X_test_prediction_rfc)\n",
    "confusion_matrix_test_rfc"
   ]
  },
  {
   "cell_type": "code",
   "execution_count": 38,
   "id": "0720f5ba-6309-4037-ae2f-8890094fa099",
   "metadata": {},
   "outputs": [
    {
     "name": "stdout",
     "output_type": "stream",
     "text": [
      "0.9975654290931223\n"
     ]
    }
   ],
   "source": [
    "# precision score for training data on rfc\n",
    "precision_train_rfc = precision_score(Y_train, X_train_prediction_rfc)\n",
    "print(precision_train_rfc)"
   ]
  },
  {
   "cell_type": "code",
   "execution_count": 39,
   "id": "d6faf9b3-c661-4f81-9ccd-e5d51577d802",
   "metadata": {},
   "outputs": [
    {
     "name": "stdout",
     "output_type": "stream",
     "text": [
      "0.8494428608447785\n"
     ]
    }
   ],
   "source": [
    "# recall score for training data on rfc\n",
    "recall_train_rfc = recall_score(Y_train, X_train_prediction_rfc)\n",
    "print(recall_train_rfc)"
   ]
  },
  {
   "cell_type": "code",
   "execution_count": 40,
   "id": "e0c70831-1b5d-4050-9bc9-2d34ea3f78a1",
   "metadata": {},
   "outputs": [
    {
     "name": "stdout",
     "output_type": "stream",
     "text": [
      "0.9797979797979798\n"
     ]
    }
   ],
   "source": [
    "# precision score for testing data on rfc\n",
    "precision_test_rfc = precision_score(Y_test, X_test_prediction_rfc)\n",
    "print(precision_test_rfc)"
   ]
  },
  {
   "cell_type": "code",
   "execution_count": 41,
   "id": "3f9a3c17-05c9-4955-8827-a91cae3e9e45",
   "metadata": {},
   "outputs": [
    {
     "name": "stdout",
     "output_type": "stream",
     "text": [
      "0.6510067114093959\n"
     ]
    }
   ],
   "source": [
    "# recall score for testing data on rfc\n",
    "recall_test_rfc = recall_score(Y_test, X_test_prediction_rfc)\n",
    "print(recall_test_rfc)"
   ]
  },
  {
   "cell_type": "code",
   "execution_count": 42,
   "id": "84153935-211e-4f85-931d-8018eccd3039",
   "metadata": {},
   "outputs": [
    {
     "name": "stdout",
     "output_type": "stream",
     "text": [
      "Classification Report: \n",
      "               precision    recall  f1-score   support\n",
      "\n",
      "           0       0.87      1.00      0.93      3859\n",
      "           1       1.00      0.85      0.92      3859\n",
      "\n",
      "    accuracy                           0.92      7718\n",
      "   macro avg       0.93      0.92      0.92      7718\n",
      "weighted avg       0.93      0.92      0.92      7718\n",
      "\n"
     ]
    }
   ],
   "source": [
    "# classification report on training data for rfc\n",
    "classific = classification_report(Y_train,X_train_prediction_rfc)\n",
    "print('Classification Report: \\n', classific)"
   ]
  },
  {
   "cell_type": "code",
   "execution_count": 43,
   "id": "4b18b8ba-1ded-4c5f-8318-0fca40b0e037",
   "metadata": {},
   "outputs": [
    {
     "name": "stdout",
     "output_type": "stream",
     "text": [
      "Classification Report: \n",
      "               precision    recall  f1-score   support\n",
      "\n",
      "           0       0.95      1.00      0.97       966\n",
      "           1       0.98      0.65      0.78       149\n",
      "\n",
      "    accuracy                           0.95      1115\n",
      "   macro avg       0.96      0.82      0.88      1115\n",
      "weighted avg       0.95      0.95      0.95      1115\n",
      "\n"
     ]
    }
   ],
   "source": [
    "# classification report on testing data for rfc\n",
    "classific = classification_report(Y_test, X_test_prediction_rfc)\n",
    "print('Classification Report: \\n', classific)"
   ]
  },
  {
   "cell_type": "code",
   "execution_count": 44,
   "id": "afcf6c62-dee1-4bec-b037-37a102c03472",
   "metadata": {},
   "outputs": [
    {
     "data": {
      "image/png": "[encoded data removed]",
      "text/plain": [
       "<Figure size 432x288 with 1 Axes>"
      ]
     },
     "metadata": {
      "needs_background": "light"
     },
     "output_type": "display_data"
    }
   ],
   "source": [
    "# precision recall score chart for testing data in rfc\n",
    "chart = PrecisionRecallDisplay.from_estimator(\n",
    "    rfc, X_train, Y_train, name=\"RandomForestClassifier\"\n",
    ")\n",
    "display = chart.ax_.set_title(\"Precision-Recall curve\")"
   ]
  },
  {
   "cell_type": "code",
   "execution_count": 45,
   "id": "621e5812-591d-4dfd-a044-df8e5f694442",
   "metadata": {},
   "outputs": [
    {
     "data": {
      "image/png": "[encoded data removed]",
      "text/plain": [
       "<Figure size 432x288 with 1 Axes>"
      ]
     },
     "metadata": {
      "needs_background": "light"
     },
     "output_type": "display_data"
    }
   ],
   "source": [
    "# precision recall score chart for testing data in rfc\n",
    "chart = PrecisionRecallDisplay.from_estimator(\n",
    "    rfc, X_test, Y_test, name=\"RandomForestClassifier\"\n",
    ")\n",
    "display = chart.ax_.set_title(\"Precision-Recall curve\")"
   ]
  },
  {
   "cell_type": "markdown",
   "id": "fd2167d2-e5f5-45f7-bd7c-07402f7f7cdd",
   "metadata": {},
   "source": [
    "<h1>KNeighborsClassifier</h1>"
   ]
  },
  {
   "cell_type": "code",
   "execution_count": 46,
   "id": "65401334-9bd5-4048-b9b7-b56283925dc6",
   "metadata": {},
   "outputs": [],
   "source": [
    "# initializing the class RandomForestClassifier\n",
    "knc = KNeighborsClassifier(n_neighbors=5, metric='minkowski', p=2)"
   ]
  },
  {
   "cell_type": "code",
   "execution_count": 47,
   "id": "4ebdb639-40d2-4950-a4ec-dd454843bc7e",
   "metadata": {},
   "outputs": [
    {
     "data": {
      "text/plain": [
       "KNeighborsClassifier()"
      ]
     },
     "execution_count": 47,
     "metadata": {},
     "output_type": "execute_result"
    }
   ],
   "source": [
    "# training the classifier with train data\n",
    "knc.fit(X_train, Y_train)"
   ]
  },
  {
   "cell_type": "code",
   "execution_count": 48,
   "id": "669ec910-dc93-4859-b418-da533015cd8d",
   "metadata": {},
   "outputs": [
    {
     "data": {
      "text/plain": [
       "0.9979269240735942"
      ]
     },
     "execution_count": 48,
     "metadata": {},
     "output_type": "execute_result"
    }
   ],
   "source": [
    "# accuracy score on train data for knc\n",
    "X_train_prediction_knc = knc.predict(X_train)\n",
    "training_data_accuracy_knc = accuracy_score(X_train_prediction_knc, Y_train)\n",
    "training_data_accuracy_knc"
   ]
  },
  {
   "cell_type": "code",
   "execution_count": 49,
   "id": "02002aea-c495-4e5c-9a69-217d8a7b70b4",
   "metadata": {},
   "outputs": [
    {
     "data": {
      "text/plain": [
       "0.9551569506726457"
      ]
     },
     "execution_count": 49,
     "metadata": {},
     "output_type": "execute_result"
    }
   ],
   "source": [
    "# accuracy score on test data for knc\n",
    "X_test_prediction_knc = knc.predict(X_test)\n",
    "testing_data_accuracy_knc = accuracy_score(X_test_prediction_knc, Y_test)\n",
    "testing_data_accuracy_knc"
   ]
  },
  {
   "cell_type": "code",
   "execution_count": 50,
   "id": "dae0e9bd-c79e-4883-b76b-4e445446e7f7",
   "metadata": {},
   "outputs": [
    {
     "data": {
      "text/plain": [
       "array([[3848,   11],\n",
       "       [   5, 3854]], dtype=int64)"
      ]
     },
     "execution_count": 50,
     "metadata": {},
     "output_type": "execute_result"
    }
   ],
   "source": [
    "# confusion matric for training data on knc\n",
    "confusion_matrix_train_knc = confusion_matrix(Y_train, X_train_prediction_knc)\n",
    "confusion_matrix_train_knc"
   ]
  },
  {
   "cell_type": "code",
   "execution_count": 51,
   "id": "fcad903d-9bb0-43eb-9b1a-0d965513f1f6",
   "metadata": {},
   "outputs": [
    {
     "data": {
      "text/plain": [
       "array([[962,   4],\n",
       "       [ 46, 103]], dtype=int64)"
      ]
     },
     "execution_count": 51,
     "metadata": {},
     "output_type": "execute_result"
    }
   ],
   "source": [
    "# confusion matric for testing data on knc\n",
    "confusion_matrix_test_knc = confusion_matrix(Y_test, X_test_prediction_knc)\n",
    "confusion_matrix_test_knc"
   ]
  },
  {
   "cell_type": "code",
   "execution_count": 52,
   "id": "40200703-a7a5-4c49-8377-24547455f2d1",
   "metadata": {},
   "outputs": [
    {
     "name": "stdout",
     "output_type": "stream",
     "text": [
      "0.9971539456662355\n"
     ]
    }
   ],
   "source": [
    "# precision score for training data on knc\n",
    "precision_train_knc = precision_score(Y_train, X_train_prediction_knc)\n",
    "print(precision_train_knc)"
   ]
  },
  {
   "cell_type": "code",
   "execution_count": 53,
   "id": "343510e2-8ee3-4edf-9d8b-e4152d290a08",
   "metadata": {},
   "outputs": [
    {
     "name": "stdout",
     "output_type": "stream",
     "text": [
      "0.9987043275459964\n"
     ]
    }
   ],
   "source": [
    "# recall score for training data on knc\n",
    "recall_train_knc = recall_score(Y_train, X_train_prediction_knc)\n",
    "print(recall_train_knc)"
   ]
  },
  {
   "cell_type": "code",
   "execution_count": 54,
   "id": "d1d331be-3911-45fc-b922-580006eb754c",
   "metadata": {},
   "outputs": [
    {
     "name": "stdout",
     "output_type": "stream",
     "text": [
      "0.9626168224299065\n"
     ]
    }
   ],
   "source": [
    "# precision score for testing data on knc\n",
    "precision_test_knc = precision_score(Y_test, X_test_prediction_knc)\n",
    "print(precision_test_knc)"
   ]
  },
  {
   "cell_type": "code",
   "execution_count": 55,
   "id": "e811bb9c-2f38-44d5-80e1-57c8b56d526d",
   "metadata": {},
   "outputs": [
    {
     "name": "stdout",
     "output_type": "stream",
     "text": [
      "0.6912751677852349\n"
     ]
    }
   ],
   "source": [
    "# recall score for testing data on knc\n",
    "recall_test_knc = recall_score(Y_test, X_test_prediction_knc)\n",
    "print(recall_test_knc)"
   ]
  },
  {
   "cell_type": "code",
   "execution_count": 56,
   "id": "a261b523-9445-4332-974d-3be9db6f82d7",
   "metadata": {},
   "outputs": [
    {
     "name": "stdout",
     "output_type": "stream",
     "text": [
      "Classification Report: \n",
      "               precision    recall  f1-score   support\n",
      "\n",
      "           0       1.00      1.00      1.00      3859\n",
      "           1       1.00      1.00      1.00      3859\n",
      "\n",
      "    accuracy                           1.00      7718\n",
      "   macro avg       1.00      1.00      1.00      7718\n",
      "weighted avg       1.00      1.00      1.00      7718\n",
      "\n"
     ]
    }
   ],
   "source": [
    "# classification report on training data for knc\n",
    "classific = classification_report(Y_train, X_train_prediction_knc)\n",
    "print('Classification Report: \\n', classific)"
   ]
  },
  {
   "cell_type": "code",
   "execution_count": 57,
   "id": "5a2a56aa-82a6-466e-85ef-aaa80803d070",
   "metadata": {},
   "outputs": [
    {
     "name": "stdout",
     "output_type": "stream",
     "text": [
      "Classification Report: \n",
      "               precision    recall  f1-score   support\n",
      "\n",
      "           0       0.95      1.00      0.97       966\n",
      "           1       0.96      0.69      0.80       149\n",
      "\n",
      "    accuracy                           0.96      1115\n",
      "   macro avg       0.96      0.84      0.89      1115\n",
      "weighted avg       0.96      0.96      0.95      1115\n",
      "\n"
     ]
    }
   ],
   "source": [
    "# classification report on testing data for knc\n",
    "classific = classification_report(Y_test, X_test_prediction_knc)\n",
    "print('Classification Report: \\n', classific)"
   ]
  },
  {
   "cell_type": "code",
   "execution_count": 58,
   "id": "d32aa915-955c-4456-9811-e21f7244601b",
   "metadata": {},
   "outputs": [
    {
     "data": {
      "image/png": "[encoded data removed]",
      "text/plain": [
       "<Figure size 432x288 with 1 Axes>"
      ]
     },
     "metadata": {
      "needs_background": "light"
     },
     "output_type": "display_data"
    }
   ],
   "source": [
    "# precision recall score chart for training data in knc\n",
    "chart = PrecisionRecallDisplay.from_estimator(\n",
    "    knc, X_train, Y_train, name=\"KNeighbourClassifier\"\n",
    ")\n",
    "display = chart.ax_.set_title(\"Precision-Recall curve\")"
   ]
  },
  {
   "cell_type": "code",
   "execution_count": 59,
   "id": "e4cad924-51f6-4926-bb1c-10ded6f52ae1",
   "metadata": {},
   "outputs": [
    {
     "data": {
      "image/png": "[encoded data removed]",
      "text/plain": [
       "<Figure size 432x288 with 1 Axes>"
      ]
     },
     "metadata": {
      "needs_background": "light"
     },
     "output_type": "display_data"
    }
   ],
   "source": [
    "# precision recall score chart for testing data in knc\n",
    "chart = PrecisionRecallDisplay.from_estimator(\n",
    "    knc, X_test, Y_test, name=\"KNeighbourClassifier\"\n",
    ")\n",
    "display = chart.ax_.set_title(\"Precision-Recall curve\")"
   ]
  },
  {
   "cell_type": "code",
   "execution_count": 60,
   "id": "6ebfffca-414c-4d3c-8a0d-36671891e1a6",
   "metadata": {},
   "outputs": [
    {
     "data": {
      "image/png": "[encoded data removed]",
      "text/plain": [
       "<Figure size 720x360 with 1 Axes>"
      ]
     },
     "metadata": {
      "needs_background": "light"
     },
     "output_type": "display_data"
    }
   ],
   "source": [
    "import matplotlib.pyplot as plt\n",
    "# visualizing the accuracy score\n",
    "models = ['Logistic Regression', 'RandomForestClassifier', 'KNeighborsClassifier']\n",
    "\n",
    "train_values = [training_data_accuracy, training_data_accuracy_rfc, training_data_accuracy_knc]\n",
    "test_values = [testing_data_accuracy, testing_data_accuracy_rfc, testing_data_accuracy_knc]\n",
    "\n",
    "x_axis = np.arange(len(models))\n",
    "\n",
    "plt.figure(figsize=(10,5))\n",
    "\n",
    "plt.bar(x_axis -0.2, train_values, width=0.4, label = 'Train')\n",
    "plt.bar(x_axis +0.2, test_values, width=0.4, label = 'Test')\n",
    "\n",
    "plt.xticks(x_axis, models)\n",
    "\n",
    "plt.legend(bbox_to_anchor =(1, 1.15))\n",
    "plt.title('Accuracy Score of Various Classifier')\n",
    "\n",
    "plt.show()"
   ]
  },
  {
   "cell_type": "code",
   "execution_count": 61,
   "id": "acc2254b-9fc0-4d66-8910-8b44df3f70b0",
   "metadata": {},
   "outputs": [
    {
     "data": {
      "image/png": "[encoded data removed]",
      "text/plain": [
       "<Figure size 1440x576 with 2 Axes>"
      ]
     },
     "metadata": {
      "needs_background": "light"
     },
     "output_type": "display_data"
    }
   ],
   "source": [
    "# visualizing the precision and recall score\n",
    "models = ['Logistic Regression', 'RandomForestClassifier', 'KNeighborsClassifier']\n",
    "\n",
    "precision_train_values = [precision_train_logistic, precision_train_rfc, precision_train_knc]\n",
    "precision_test_values = [precision_test_logistic, precision_test_rfc, precision_test_knc]\n",
    "\n",
    "recall_train_values = [recall_train_logistic, recall_train_rfc, recall_train_knc]\n",
    "recall_test_values = [recall_test_logistic, recall_test_rfc, recall_test_knc]\n",
    "\n",
    "x_axis = np.arange(len(models))\n",
    "plt.figure(figsize=(20,8))\n",
    "\n",
    "plt.subplot(1, 2, 1)\n",
    "plt.bar(x_axis -0.2, precision_train_values, width=0.4, label = 'Train')\n",
    "plt.bar(x_axis +0.2, precision_test_values, width=0.4, label = 'Test')\n",
    "plt.xticks(x_axis, models)\n",
    "plt.title('Precision Score')\n",
    "\n",
    "plt.subplot(1, 2, 2)\n",
    "plt.bar(x_axis -0.2, recall_train_values, width=0.4, label = 'Train')\n",
    "plt.bar(x_axis +0.2, recall_test_values, width=0.4, label = 'Test')\n",
    "\n",
    "plt.xticks(x_axis, models)\n",
    "plt.title('Recall Score')\n",
    "\n",
    "plt.legend(bbox_to_anchor =(1, 1.15))\n",
    "\n",
    "plt.show()"
   ]
  },
  {
   "cell_type": "markdown",
   "id": "57a6f7ef-5ff1-4ba4-8341-7cfa4aa04272",
   "metadata": {},
   "source": [
    "in classification model we can just depend on the accuracy score for the performance metrics\n",
    "so, here I have used precision and recall score as performance metrics for the analysis of\n",
    "these three classifiers.\n",
    "\n",
    "as with the analysis of precision and recall score on both train and test data for three models:<br/>\n",
    "     1. Logistic Regression<br/>\n",
    "     2. Random Forest Classifier<br/>\n",
    "     3. KNeighbour Classifier\n",
    "\n",
    "Here as the precision score and recall score for Logistic Regression is better than other model so I have found that the LogisticRegression is the best fit model for classifying spam mail."
   ]
  },
  {
   "cell_type": "markdown",
   "id": "e9c8fb25-5ce4-40fe-b5e5-710d2837d4b2",
   "metadata": {},
   "source": [
    "# Save the best suited model"
   ]
  },
  {
   "cell_type": "code",
   "execution_count": 62,
   "id": "22fe36e8-9e3d-407c-9b98-98b7d4897676",
   "metadata": {},
   "outputs": [
    {
     "data": {
      "text/plain": [
       "['saved_model.sav']"
      ]
     },
     "execution_count": 62,
     "metadata": {},
     "output_type": "execute_result"
    }
   ],
   "source": [
    "import joblib\n",
    "# save ai model i.e Logistic Regression\n",
    "saved_model = 'saved_model.sav'\n",
    "joblib.dump(logistic_classifier, saved_model)"
   ]
  },
  {
   "cell_type": "markdown",
   "id": "75d0c0d8-2bb2-4033-80d7-76d35a1375bf",
   "metadata": {},
   "source": [
    "# Load the saved model"
   ]
  },
  {
   "cell_type": "code",
   "execution_count": 23,
   "id": "884a2d33-46d0-40e9-9db8-994a1efac451",
   "metadata": {},
   "outputs": [],
   "source": [
    "import joblib\n",
    "loaded_model = joblib.load('saved_model.sav')"
   ]
  },
  {
   "cell_type": "code",
   "execution_count": 24,
   "id": "f5761e2e-d1a3-4675-8c4e-8d557141cfe9",
   "metadata": {},
   "outputs": [],
   "source": [
    "# function to display result\n",
    "def check_result(value):\n",
    "    if value == 1:\n",
    "        print('The mail is Spam')\n",
    "    elif value == 0:\n",
    "        print('The mail is not Spam')"
   ]
  },
  {
   "cell_type": "code",
   "execution_count": 25,
   "id": "821322b2-99c1-43ae-a828-f06f76125d62",
   "metadata": {},
   "outputs": [
    {
     "name": "stdin",
     "output_type": "stream",
     "text": [
      "Enter the Mail:  Free entry in 2 a wkly comp to win FA Cup final tkts 21st May 2005. Text FA to 87121 to receive entry question(std txt rate)T&C's apply 08452810075over18's\n"
     ]
    },
    {
     "name": "stdout",
     "output_type": "stream",
     "text": [
      "The mail is Spam\n"
     ]
    }
   ],
   "source": [
    "mail = input('Enter the Mail: ')\n",
    "\n",
    "# apply stemming the input mail\n",
    "steammed_mail = stemming(mail)\n",
    "\n",
    "# converting into feture metrics\n",
    "vectorized_mail = vectorizer.transform([steammed_mail])\n",
    "\n",
    "# predict the value with loaded model\n",
    "predicted_value = loaded_model.predict(vectorized_mail)\n",
    "\n",
    "# displaying the result based on the predicted value\n",
    "check_result(predicted_value)"
   ]
  },
  {
   "cell_type": "code",
   "execution_count": null,
   "id": "7863cef5-5f4f-4ce9-bb8a-68360e7fb76a",
   "metadata": {},
   "outputs": [],
   "source": []
  }
 ],
 "metadata": {
  "kernelspec": {
   "display_name": "Python 3 (ipykernel)",
   "language": "python",
   "name": "python3"
  },
  "language_info": {
   "codemirror_mode": {
    "name": "ipython",
    "version": 3
   },
   "file_extension": ".py",
   "mimetype": "text/x-python",
   "name": "python",
   "nbconvert_exporter": "python",
   "pygments_lexer": "ipython3",
   "version": "3.9.7"
  }
 },
 "nbformat": 4,
 "nbformat_minor": 5
}
