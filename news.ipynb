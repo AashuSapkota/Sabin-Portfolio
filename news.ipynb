{
 "cells": [
  {
   "cell_type": "code",
   "execution_count": 1,
   "id": "46e44260-e35b-4c64-8fb4-b910cda8c1df",
   "metadata": {},
   "outputs": [],
   "source": [
    "import re\n",
    "import numpy as np\n",
    "import pandas as pd\n",
    "\n",
    "from sklearn.feature_extraction.text import TfidfVectorizer\n",
    "\n",
    "from sklearn.model_selection import train_test_split\n",
    "\n",
    "from sklearn.svm import SVC\n",
    "from sklearn.naive_bayes import MultinomialNB\n",
    "from sklearn.linear_model import LogisticRegression\n",
    "\n",
    "from sklearn.metrics import accuracy_score, classification_report, confusion_matrix\n",
    "from sklearn.metrics import precision_score, recall_score\n",
    "\n",
    "import matplotlib.pyplot as plt\n",
    "from sklearn.metrics import plot_confusion_matrix"
   ]
  },
  {
   "cell_type": "code",
   "execution_count": 2,
   "id": "35e36b91-1ae9-46e5-ad98-a5aa096b9989",
   "metadata": {},
   "outputs": [],
   "source": [
    "# read dataset\n",
    "dataset = pd.read_csv('dataset/train.csv')"
   ]
  },
  {
   "cell_type": "code",
   "execution_count": 3,
   "id": "d37a8080-e79d-4cfa-a579-9722681c76e6",
   "metadata": {},
   "outputs": [
    {
     "data": {
      "text/html": [
       "<div>\n",
       "<style scoped>\n",
       "    .dataframe tbody tr th:only-of-type {\n",
       "        vertical-align: middle;\n",
       "    }\n",
       "\n",
       "    .dataframe tbody tr th {\n",
       "        vertical-align: top;\n",
       "    }\n",
       "\n",
       "    .dataframe thead th {\n",
       "        text-align: right;\n",
       "    }\n",
       "</style>\n",
       "<table border=\"1\" class=\"dataframe\">\n",
       "  <thead>\n",
       "    <tr style=\"text-align: right;\">\n",
       "      <th></th>\n",
       "      <th>id</th>\n",
       "      <th>label</th>\n",
       "    </tr>\n",
       "  </thead>\n",
       "  <tbody>\n",
       "    <tr>\n",
       "      <th>count</th>\n",
       "      <td>20800.000000</td>\n",
       "      <td>20800.000000</td>\n",
       "    </tr>\n",
       "    <tr>\n",
       "      <th>mean</th>\n",
       "      <td>10399.500000</td>\n",
       "      <td>0.500625</td>\n",
       "    </tr>\n",
       "    <tr>\n",
       "      <th>std</th>\n",
       "      <td>6004.587135</td>\n",
       "      <td>0.500012</td>\n",
       "    </tr>\n",
       "    <tr>\n",
       "      <th>min</th>\n",
       "      <td>0.000000</td>\n",
       "      <td>0.000000</td>\n",
       "    </tr>\n",
       "    <tr>\n",
       "      <th>25%</th>\n",
       "      <td>5199.750000</td>\n",
       "      <td>0.000000</td>\n",
       "    </tr>\n",
       "    <tr>\n",
       "      <th>50%</th>\n",
       "      <td>10399.500000</td>\n",
       "      <td>1.000000</td>\n",
       "    </tr>\n",
       "    <tr>\n",
       "      <th>75%</th>\n",
       "      <td>15599.250000</td>\n",
       "      <td>1.000000</td>\n",
       "    </tr>\n",
       "    <tr>\n",
       "      <th>max</th>\n",
       "      <td>20799.000000</td>\n",
       "      <td>1.000000</td>\n",
       "    </tr>\n",
       "  </tbody>\n",
       "</table>\n",
       "</div>"
      ],
      "text/plain": [
       "                 id         label\n",
       "count  20800.000000  20800.000000\n",
       "mean   10399.500000      0.500625\n",
       "std     6004.587135      0.500012\n",
       "min        0.000000      0.000000\n",
       "25%     5199.750000      0.000000\n",
       "50%    10399.500000      1.000000\n",
       "75%    15599.250000      1.000000\n",
       "max    20799.000000      1.000000"
      ]
     },
     "execution_count": 3,
     "metadata": {},
     "output_type": "execute_result"
    }
   ],
   "source": [
    "# exploring dataset\n",
    "dataset.describe()"
   ]
  },
  {
   "cell_type": "code",
   "execution_count": 4,
   "id": "b2679b77-16a6-462a-8e48-aec8156c0acc",
   "metadata": {},
   "outputs": [
    {
     "data": {
      "text/plain": [
       "(20800, 5)"
      ]
     },
     "execution_count": 4,
     "metadata": {},
     "output_type": "execute_result"
    }
   ],
   "source": [
    "# exploring dataset\n",
    "dataset.shape"
   ]
  },
  {
   "cell_type": "code",
   "execution_count": 5,
   "id": "f8784547-b80c-4e4b-ac71-90a8513b63a2",
   "metadata": {},
   "outputs": [
    {
     "data": {
      "text/html": [
       "<div>\n",
       "<style scoped>\n",
       "    .dataframe tbody tr th:only-of-type {\n",
       "        vertical-align: middle;\n",
       "    }\n",
       "\n",
       "    .dataframe tbody tr th {\n",
       "        vertical-align: top;\n",
       "    }\n",
       "\n",
       "    .dataframe thead th {\n",
       "        text-align: right;\n",
       "    }\n",
       "</style>\n",
       "<table border=\"1\" class=\"dataframe\">\n",
       "  <thead>\n",
       "    <tr style=\"text-align: right;\">\n",
       "      <th></th>\n",
       "      <th>id</th>\n",
       "      <th>title</th>\n",
       "      <th>author</th>\n",
       "      <th>text</th>\n",
       "      <th>label</th>\n",
       "    </tr>\n",
       "  </thead>\n",
       "  <tbody>\n",
       "    <tr>\n",
       "      <th>0</th>\n",
       "      <td>0</td>\n",
       "      <td>House Dem Aide: We Didn’t Even See Comey’s Let...</td>\n",
       "      <td>Darrell Lucus</td>\n",
       "      <td>House Dem Aide: We Didn’t Even See Comey’s Let...</td>\n",
       "      <td>1</td>\n",
       "    </tr>\n",
       "    <tr>\n",
       "      <th>1</th>\n",
       "      <td>1</td>\n",
       "      <td>FLYNN: Hillary Clinton, Big Woman on Campus - ...</td>\n",
       "      <td>Daniel J. Flynn</td>\n",
       "      <td>Ever get the feeling your life circles the rou...</td>\n",
       "      <td>0</td>\n",
       "    </tr>\n",
       "    <tr>\n",
       "      <th>2</th>\n",
       "      <td>2</td>\n",
       "      <td>Why the Truth Might Get You Fired</td>\n",
       "      <td>Consortiumnews.com</td>\n",
       "      <td>Why the Truth Might Get You Fired October 29, ...</td>\n",
       "      <td>1</td>\n",
       "    </tr>\n",
       "    <tr>\n",
       "      <th>3</th>\n",
       "      <td>3</td>\n",
       "      <td>15 Civilians Killed In Single US Airstrike Hav...</td>\n",
       "      <td>Jessica Purkiss</td>\n",
       "      <td>Videos 15 Civilians Killed In Single US Airstr...</td>\n",
       "      <td>1</td>\n",
       "    </tr>\n",
       "    <tr>\n",
       "      <th>4</th>\n",
       "      <td>4</td>\n",
       "      <td>Iranian woman jailed for fictional unpublished...</td>\n",
       "      <td>Howard Portnoy</td>\n",
       "      <td>Print \\nAn Iranian woman has been sentenced to...</td>\n",
       "      <td>1</td>\n",
       "    </tr>\n",
       "  </tbody>\n",
       "</table>\n",
       "</div>"
      ],
      "text/plain": [
       "   id                                              title              author  \\\n",
       "0   0  House Dem Aide: We Didn’t Even See Comey’s Let...       Darrell Lucus   \n",
       "1   1  FLYNN: Hillary Clinton, Big Woman on Campus - ...     Daniel J. Flynn   \n",
       "2   2                  Why the Truth Might Get You Fired  Consortiumnews.com   \n",
       "3   3  15 Civilians Killed In Single US Airstrike Hav...     Jessica Purkiss   \n",
       "4   4  Iranian woman jailed for fictional unpublished...      Howard Portnoy   \n",
       "\n",
       "                                                text  label  \n",
       "0  House Dem Aide: We Didn’t Even See Comey’s Let...      1  \n",
       "1  Ever get the feeling your life circles the rou...      0  \n",
       "2  Why the Truth Might Get You Fired October 29, ...      1  \n",
       "3  Videos 15 Civilians Killed In Single US Airstr...      1  \n",
       "4  Print \\nAn Iranian woman has been sentenced to...      1  "
      ]
     },
     "execution_count": 5,
     "metadata": {},
     "output_type": "execute_result"
    }
   ],
   "source": [
    "# exploring dataset\n",
    "dataset.head()"
   ]
  },
  {
   "cell_type": "code",
   "execution_count": 6,
   "id": "327230c0-d0a5-4430-a92d-3d69947d2b42",
   "metadata": {},
   "outputs": [
    {
     "data": {
      "text/plain": [
       "id           0\n",
       "title      558\n",
       "author    1957\n",
       "text        39\n",
       "label        0\n",
       "dtype: int64"
      ]
     },
     "execution_count": 6,
     "metadata": {},
     "output_type": "execute_result"
    }
   ],
   "source": [
    "# check for null values\n",
    "dataset.isnull()\n",
    "dataset.isnull().sum()"
   ]
  },
  {
   "cell_type": "code",
   "execution_count": 7,
   "id": "14eaa297-a42f-4d5a-ba3c-e2fc9d32445b",
   "metadata": {},
   "outputs": [
    {
     "data": {
      "text/plain": [
       "id        0\n",
       "title     0\n",
       "author    0\n",
       "text      0\n",
       "label     0\n",
       "dtype: int64"
      ]
     },
     "execution_count": 7,
     "metadata": {},
     "output_type": "execute_result"
    }
   ],
   "source": [
    "# replace the null values with empty string\n",
    "dataset = dataset.fillna('')\n",
    "dataset.isnull().sum()"
   ]
  },
  {
   "cell_type": "code",
   "execution_count": 8,
   "id": "1a37df3e-d76a-491c-a409-93d420ca664a",
   "metadata": {},
   "outputs": [],
   "source": [
    "# merging the author, title and text\n",
    "dataset['news'] = dataset['author'] + ' ' + dataset['title'] + ' ' + dataset['text']"
   ]
  },
  {
   "cell_type": "code",
   "execution_count": 9,
   "id": "dd37bf0c-ba78-44a5-9c29-474225a97b62",
   "metadata": {},
   "outputs": [],
   "source": [
    "df = pd.DataFrame(dataset['news'])"
   ]
  },
  {
   "cell_type": "code",
   "execution_count": 10,
   "id": "55668211-c069-4fb5-ab30-d4cd4d45ccf5",
   "metadata": {},
   "outputs": [],
   "source": [
    "df['label'] = dataset['label']\n",
    "train_data = df['news'].values\n",
    "target = dataset['label'].values"
   ]
  },
  {
   "cell_type": "code",
   "execution_count": 11,
   "id": "59e94eef-6380-4af2-9f7b-a6aaa9822371",
   "metadata": {},
   "outputs": [
    {
     "data": {
      "text/html": [
       "<div>\n",
       "<style scoped>\n",
       "    .dataframe tbody tr th:only-of-type {\n",
       "        vertical-align: middle;\n",
       "    }\n",
       "\n",
       "    .dataframe tbody tr th {\n",
       "        vertical-align: top;\n",
       "    }\n",
       "\n",
       "    .dataframe thead th {\n",
       "        text-align: right;\n",
       "    }\n",
       "</style>\n",
       "<table border=\"1\" class=\"dataframe\">\n",
       "  <thead>\n",
       "    <tr style=\"text-align: right;\">\n",
       "      <th></th>\n",
       "      <th>news</th>\n",
       "      <th>label</th>\n",
       "    </tr>\n",
       "  </thead>\n",
       "  <tbody>\n",
       "    <tr>\n",
       "      <th>0</th>\n",
       "      <td>Darrell Lucus House Dem Aide: We Didn’t Even S...</td>\n",
       "      <td>1</td>\n",
       "    </tr>\n",
       "    <tr>\n",
       "      <th>1</th>\n",
       "      <td>Daniel J. Flynn FLYNN: Hillary Clinton, Big Wo...</td>\n",
       "      <td>0</td>\n",
       "    </tr>\n",
       "    <tr>\n",
       "      <th>2</th>\n",
       "      <td>Consortiumnews.com Why the Truth Might Get You...</td>\n",
       "      <td>1</td>\n",
       "    </tr>\n",
       "    <tr>\n",
       "      <th>3</th>\n",
       "      <td>Jessica Purkiss 15 Civilians Killed In Single ...</td>\n",
       "      <td>1</td>\n",
       "    </tr>\n",
       "    <tr>\n",
       "      <th>4</th>\n",
       "      <td>Howard Portnoy Iranian woman jailed for fictio...</td>\n",
       "      <td>1</td>\n",
       "    </tr>\n",
       "  </tbody>\n",
       "</table>\n",
       "</div>"
      ],
      "text/plain": [
       "                                                news  label\n",
       "0  Darrell Lucus House Dem Aide: We Didn’t Even S...      1\n",
       "1  Daniel J. Flynn FLYNN: Hillary Clinton, Big Wo...      0\n",
       "2  Consortiumnews.com Why the Truth Might Get You...      1\n",
       "3  Jessica Purkiss 15 Civilians Killed In Single ...      1\n",
       "4  Howard Portnoy Iranian woman jailed for fictio...      1"
      ]
     },
     "execution_count": 11,
     "metadata": {},
     "output_type": "execute_result"
    }
   ],
   "source": [
    "df.head()"
   ]
  },
  {
   "cell_type": "code",
   "execution_count": 12,
   "id": "f3d4562e-3fcc-4355-ab45-c7252f01e6cd",
   "metadata": {},
   "outputs": [
    {
     "data": {
      "text/plain": [
       "TfidfVectorizer()"
      ]
     },
     "execution_count": 12,
     "metadata": {},
     "output_type": "execute_result"
    }
   ],
   "source": [
    "# converting textual data into numerical data\n",
    "vectorizer = TfidfVectorizer()\n",
    "vectorizer.fit(train_data)"
   ]
  },
  {
   "cell_type": "code",
   "execution_count": 13,
   "id": "2f0f5130-10a9-4837-b009-73ac518f705d",
   "metadata": {},
   "outputs": [],
   "source": [
    "train_data = vectorizer.transform(train_data)"
   ]
  },
  {
   "cell_type": "code",
   "execution_count": 14,
   "id": "d39f0e32-d591-435f-ad3a-3e483aec063b",
   "metadata": {},
   "outputs": [],
   "source": [
    "# splitting the dataset to training and test\n",
    "X_train, X_test, Y_train, Y_test = train_test_split(train_data, target, test_size = 0.2, stratify=target, random_state=2)"
   ]
  },
  {
   "cell_type": "markdown",
   "id": "939c14b8-dece-4f2b-a17a-89bea1869751",
   "metadata": {},
   "source": [
    "Logistic Regression Model"
   ]
  },
  {
   "cell_type": "code",
   "execution_count": 15,
   "id": "915d03c2-984f-4f35-a9db-a48b6e70c9b4",
   "metadata": {},
   "outputs": [
    {
     "data": {
      "text/plain": [
       "LogisticRegression()"
      ]
     },
     "execution_count": 15,
     "metadata": {},
     "output_type": "execute_result"
    }
   ],
   "source": [
    "# training the model: Logoistic Regression Model\n",
    "model = LogisticRegression()\n",
    "model.fit(X_train, Y_train)"
   ]
  },
  {
   "cell_type": "code",
   "execution_count": 16,
   "id": "d13ed1eb-3d68-4710-a79e-9c8e51629194",
   "metadata": {},
   "outputs": [
    {
     "name": "stdout",
     "output_type": "stream",
     "text": [
      "Accuracy Score:  0.9778245192307692\n"
     ]
    }
   ],
   "source": [
    "# accuracy score on training data\n",
    "X_train_prediction = model.predict(X_train)\n",
    "training_data_accuracy = accuracy_score(X_train_prediction, Y_train)\n",
    "print('Accuracy Score: ', training_data_accuracy)"
   ]
  },
  {
   "cell_type": "code",
   "execution_count": 17,
   "id": "465dcc4f-b042-4f13-8545-db997e4f494e",
   "metadata": {},
   "outputs": [
    {
     "name": "stdout",
     "output_type": "stream",
     "text": [
      "Accuracy Score:  0.9540865384615385\n"
     ]
    }
   ],
   "source": [
    "# accuracy score on testing data\n",
    "X_test_prediction = model.predict(X_test)\n",
    "testing_data_accuracy = accuracy_score(X_test_prediction, Y_test)\n",
    "print('Accuracy Score: ', testing_data_accuracy)"
   ]
  },
  {
   "cell_type": "code",
   "execution_count": 18,
   "id": "c7e4a39a-57c1-448a-a245-164038e24f0c",
   "metadata": {},
   "outputs": [
    {
     "name": "stdout",
     "output_type": "stream",
     "text": [
      "[[8110  200]\n",
      " [ 169 8161]]\n"
     ]
    },
    {
     "name": "stderr",
     "output_type": "stream",
     "text": [
      "E:\\Ismt\\AI\\FakeNews\\venv\\lib\\site-packages\\sklearn\\utils\\deprecation.py:87: FutureWarning: Function plot_confusion_matrix is deprecated; Function `plot_confusion_matrix` is deprecated in 1.0 and will be removed in 1.2. Use one of the class methods: ConfusionMatrixDisplay.from_predictions or ConfusionMatrixDisplay.from_estimator.\n",
      "  warnings.warn(msg, category=FutureWarning)\n"
     ]
    },
    {
     "data": {
      "text/plain": [
       "<sklearn.metrics._plot.confusion_matrix.ConfusionMatrixDisplay at 0x22f3e9ec940>"
      ]
     },
     "execution_count": 18,
     "metadata": {},
     "output_type": "execute_result"
    },
    {
     "data": {
      "image/png": "[encoded data removed]",
      "text/plain": [
       "<Figure size 432x288 with 2 Axes>"
      ]
     },
     "metadata": {
      "needs_background": "light"
     },
     "output_type": "display_data"
    }
   ],
   "source": [
    "# confusion matrix on training data\n",
    "confusion_matrix_score_train = confusion_matrix(Y_train, X_train_prediction)\n",
    "print(confusion_matrix_score_train)\n",
    "plot_confusion_matrix(model, X_train, Y_train)"
   ]
  },
  {
   "cell_type": "code",
   "execution_count": 19,
   "id": "b1f1d38b-383e-48e2-923a-3ee5d5674340",
   "metadata": {},
   "outputs": [
    {
     "name": "stdout",
     "output_type": "stream",
     "text": [
      "[[1990   87]\n",
      " [ 104 1979]]\n"
     ]
    },
    {
     "name": "stderr",
     "output_type": "stream",
     "text": [
      "E:\\Ismt\\AI\\FakeNews\\venv\\lib\\site-packages\\sklearn\\utils\\deprecation.py:87: FutureWarning: Function plot_confusion_matrix is deprecated; Function `plot_confusion_matrix` is deprecated in 1.0 and will be removed in 1.2. Use one of the class methods: ConfusionMatrixDisplay.from_predictions or ConfusionMatrixDisplay.from_estimator.\n",
      "  warnings.warn(msg, category=FutureWarning)\n"
     ]
    },
    {
     "data": {
      "text/plain": [
       "<sklearn.metrics._plot.confusion_matrix.ConfusionMatrixDisplay at 0x22f57c13df0>"
      ]
     },
     "execution_count": 19,
     "metadata": {},
     "output_type": "execute_result"
    },
    {
     "data": {
      "image/png": "[encoded data removed]",
      "text/plain": [
       "<Figure size 432x288 with 2 Axes>"
      ]
     },
     "metadata": {
      "needs_background": "light"
     },
     "output_type": "display_data"
    }
   ],
   "source": [
    "# confusion matrix on testing data\n",
    "confusion_matrix_score_test = confusion_matrix(Y_test, X_test_prediction)\n",
    "print(confusion_matrix_score_test)\n",
    "plot_confusion_matrix(model, X_test, Y_test)"
   ]
  },
  {
   "cell_type": "code",
   "execution_count": 20,
   "id": "54fe8efd-31d2-40a0-af57-2fbb705832f2",
   "metadata": {},
   "outputs": [
    {
     "name": "stdout",
     "output_type": "stream",
     "text": [
      "Precision Score on training data:  0.9760794163377586\n",
      "Recall Score on training data:  0.9797118847539016\n"
     ]
    }
   ],
   "source": [
    "# precision and recall score on training data\n",
    "precision_score_train = precision_score(Y_train, X_train_prediction)\n",
    "recall_score_train = recall_score(Y_train, X_train_prediction)\n",
    "print(\"Precision Score on training data: \", precision_score_train)\n",
    "print(\"Recall Score on training data: \", recall_score_train)"
   ]
  },
  {
   "cell_type": "code",
   "execution_count": 21,
   "id": "e1265d44-73ad-4565-ac8a-09e7c1557694",
   "metadata": {},
   "outputs": [
    {
     "name": "stdout",
     "output_type": "stream",
     "text": [
      "Precision Score on testing data:  0.9760794163377586\n",
      "Recall Score on testing data:  0.9797118847539016\n"
     ]
    }
   ],
   "source": [
    "# precision and recall score on testing data\n",
    "precision_score_test = precision_score(Y_test, X_test_prediction)\n",
    "recall_score_test = recall_score(Y_test, X_test_prediction)\n",
    "print(\"Precision Score on testing data: \", precision_score_train)\n",
    "print(\"Recall Score on testing data: \", recall_score_train)"
   ]
  },
  {
   "cell_type": "code",
   "execution_count": 22,
   "id": "f886feb9-3b4d-424e-bb3e-6f1c4350d2eb",
   "metadata": {},
   "outputs": [
    {
     "name": "stdout",
     "output_type": "stream",
     "text": [
      "Classification Report on training data: \n",
      "               precision    recall  f1-score   support\n",
      "\n",
      "           0       0.98      0.98      0.98      8310\n",
      "           1       0.98      0.98      0.98      8330\n",
      "\n",
      "    accuracy                           0.98     16640\n",
      "   macro avg       0.98      0.98      0.98     16640\n",
      "weighted avg       0.98      0.98      0.98     16640\n",
      "\n"
     ]
    }
   ],
   "source": [
    "# classification report on training data\n",
    "classification_report_train = classification_report(Y_train,X_train_prediction)\n",
    "print(\"Classification Report on training data: \\n\", classification_report_train)"
   ]
  },
  {
   "cell_type": "code",
   "execution_count": 23,
   "id": "ae365f68-8c62-4fe1-95bb-c125696dd950",
   "metadata": {},
   "outputs": [
    {
     "name": "stdout",
     "output_type": "stream",
     "text": [
      "Classification Report on training data: \n",
      "               precision    recall  f1-score   support\n",
      "\n",
      "           0       0.95      0.96      0.95      2077\n",
      "           1       0.96      0.95      0.95      2083\n",
      "\n",
      "    accuracy                           0.95      4160\n",
      "   macro avg       0.95      0.95      0.95      4160\n",
      "weighted avg       0.95      0.95      0.95      4160\n",
      "\n"
     ]
    }
   ],
   "source": [
    "# classification report on testing data\n",
    "classification_report_test = classification_report(Y_test,X_test_prediction)\n",
    "print(\"Classification Report on training data: \\n\", classification_report_test)"
   ]
  },
  {
   "cell_type": "code",
   "execution_count": 24,
   "id": "040cce5a-c1a1-4c57-89a8-427fc5782fe5",
   "metadata": {},
   "outputs": [
    {
     "name": "stdout",
     "output_type": "stream",
     "text": [
      "[0]\n",
      "The news is Real\n"
     ]
    }
   ],
   "source": [
    "# prediction\n",
    "X_new = X_test[7]\n",
    "\n",
    "prediction = model.predict(X_new)\n",
    "print(prediction)\n",
    "\n",
    "if(prediction[0]==0):\n",
    "    print('The news is Real')\n",
    "else:\n",
    "    print('The news is Fake')"
   ]
  },
  {
   "cell_type": "markdown",
   "id": "a0b781a0-8cb1-4229-9adf-3f852cd06661",
   "metadata": {},
   "source": [
    "Support Vector Classification (SVC)"
   ]
  },
  {
   "cell_type": "code",
   "execution_count": 25,
   "id": "2eda24ff-4e76-4848-8f82-391aa90b9297",
   "metadata": {},
   "outputs": [
    {
     "data": {
      "text/plain": [
       "SVC()"
      ]
     },
     "execution_count": 25,
     "metadata": {},
     "output_type": "execute_result"
    }
   ],
   "source": [
    "# training the model: SVC\n",
    "svc_model = SVC()\n",
    "svc_model.fit(X_train, Y_train)"
   ]
  },
  {
   "cell_type": "code",
   "execution_count": 26,
   "id": "033d6a79-4a85-4c7c-8098-ee3f19450b2a",
   "metadata": {},
   "outputs": [
    {
     "name": "stdout",
     "output_type": "stream",
     "text": [
      "Accuracy Score:  0.9984375\n"
     ]
    }
   ],
   "source": [
    "# accuracy score on training data for SVC\n",
    "X_train_prediction_svc = svc_model.predict(X_train)\n",
    "training_data_accuracy_svc = accuracy_score(X_train_prediction_svc, Y_train)\n",
    "print('Accuracy Score: ', training_data_accuracy_svc)"
   ]
  },
  {
   "cell_type": "code",
   "execution_count": 27,
   "id": "3986c228-817b-4d01-8857-ce2a64969efb",
   "metadata": {},
   "outputs": [
    {
     "name": "stdout",
     "output_type": "stream",
     "text": [
      "Accuracy Score:  0.9697115384615385\n"
     ]
    }
   ],
   "source": [
    "# accuracy score on training data for SVC\n",
    "X_test_prediction_svc = svc_model.predict(X_test)\n",
    "testing_data_accuracy_svc = accuracy_score(X_test_prediction_svc, Y_test)\n",
    "print('Accuracy Score: ', testing_data_accuracy_svc)"
   ]
  },
  {
   "cell_type": "code",
   "execution_count": 28,
   "id": "1954402b-3051-4d71-b323-a4cc515a65ee",
   "metadata": {},
   "outputs": [
    {
     "name": "stdout",
     "output_type": "stream",
     "text": [
      "[[8294   16]\n",
      " [  10 8320]]\n"
     ]
    },
    {
     "name": "stderr",
     "output_type": "stream",
     "text": [
      "E:\\Ismt\\AI\\FakeNews\\venv\\lib\\site-packages\\sklearn\\utils\\deprecation.py:87: FutureWarning: Function plot_confusion_matrix is deprecated; Function `plot_confusion_matrix` is deprecated in 1.0 and will be removed in 1.2. Use one of the class methods: ConfusionMatrixDisplay.from_predictions or ConfusionMatrixDisplay.from_estimator.\n",
      "  warnings.warn(msg, category=FutureWarning)\n"
     ]
    },
    {
     "data": {
      "text/plain": [
       "<sklearn.metrics._plot.confusion_matrix.ConfusionMatrixDisplay at 0x22f593051f0>"
      ]
     },
     "execution_count": 28,
     "metadata": {},
     "output_type": "execute_result"
    },
    {
     "data": {
      "image/png": "[encoded data removed]",
      "text/plain": [
       "<Figure size 432x288 with 2 Axes>"
      ]
     },
     "metadata": {
      "needs_background": "light"
     },
     "output_type": "display_data"
    }
   ],
   "source": [
    "# confusion matrix on training data\n",
    "confusion_matrix_score_train_svc = confusion_matrix(Y_train, X_train_prediction_svc)\n",
    "print(confusion_matrix_score_train_svc)\n",
    "plot_confusion_matrix(svc_model, X_train, Y_train)"
   ]
  },
  {
   "cell_type": "code",
   "execution_count": 29,
   "id": "06769f88-f53a-4fc7-aebc-ff42aea12b0d",
   "metadata": {},
   "outputs": [
    {
     "name": "stdout",
     "output_type": "stream",
     "text": [
      "[[2019   58]\n",
      " [  68 2015]]\n"
     ]
    },
    {
     "name": "stderr",
     "output_type": "stream",
     "text": [
      "E:\\Ismt\\AI\\FakeNews\\venv\\lib\\site-packages\\sklearn\\utils\\deprecation.py:87: FutureWarning: Function plot_confusion_matrix is deprecated; Function `plot_confusion_matrix` is deprecated in 1.0 and will be removed in 1.2. Use one of the class methods: ConfusionMatrixDisplay.from_predictions or ConfusionMatrixDisplay.from_estimator.\n",
      "  warnings.warn(msg, category=FutureWarning)\n"
     ]
    },
    {
     "data": {
      "text/plain": [
       "<sklearn.metrics._plot.confusion_matrix.ConfusionMatrixDisplay at 0x22f58dee310>"
      ]
     },
     "execution_count": 29,
     "metadata": {},
     "output_type": "execute_result"
    },
    {
     "data": {
      "image/png": "[encoded data removed]",
      "text/plain": [
       "<Figure size 432x288 with 2 Axes>"
      ]
     },
     "metadata": {
      "needs_background": "light"
     },
     "output_type": "display_data"
    }
   ],
   "source": [
    "# confusion matrix on testing data\n",
    "confusion_matrix_score_test_svc = confusion_matrix(Y_test, X_test_prediction_svc)\n",
    "print(confusion_matrix_score_test_svc)\n",
    "plot_confusion_matrix(svc_model, X_test, Y_test)"
   ]
  },
  {
   "cell_type": "code",
   "execution_count": 30,
   "id": "690d2cac-8954-41cd-bfbe-2593082a5f2b",
   "metadata": {},
   "outputs": [
    {
     "name": "stdout",
     "output_type": "stream",
     "text": [
      "Precision Score on training data:  0.9980806142034548\n",
      "Recall Score on training data:  0.9987995198079231\n"
     ]
    }
   ],
   "source": [
    "# precision and recall score on training data\n",
    "precision_score_train_svc = precision_score(Y_train, X_train_prediction_svc)\n",
    "recall_score_train_svc = recall_score(Y_train, X_train_prediction_svc)\n",
    "print(\"Precision Score on training data: \", precision_score_train_svc)\n",
    "print(\"Recall Score on training data: \", recall_score_train_svc)"
   ]
  },
  {
   "cell_type": "code",
   "execution_count": 31,
   "id": "e1c22a69-eb65-43be-b5fe-150a8085d694",
   "metadata": {},
   "outputs": [
    {
     "name": "stdout",
     "output_type": "stream",
     "text": [
      "Precision Score on testing data:  0.9720212252773758\n",
      "Recall Score on testing data:  0.9673547767642823\n"
     ]
    }
   ],
   "source": [
    "# precision and recall score on testing data\n",
    "precision_score_test_svc = precision_score(Y_test, X_test_prediction_svc)\n",
    "recall_score_test_svc = recall_score(Y_test, X_test_prediction_svc)\n",
    "print(\"Precision Score on testing data: \", precision_score_test_svc)\n",
    "print(\"Recall Score on testing data: \", recall_score_test_svc)"
   ]
  },
  {
   "cell_type": "code",
   "execution_count": 32,
   "id": "97d62c16-9754-43f7-82b3-322d25218c85",
   "metadata": {},
   "outputs": [
    {
     "name": "stdout",
     "output_type": "stream",
     "text": [
      "Classification Report on training data: \n",
      "               precision    recall  f1-score   support\n",
      "\n",
      "           0       1.00      1.00      1.00      8310\n",
      "           1       1.00      1.00      1.00      8330\n",
      "\n",
      "    accuracy                           1.00     16640\n",
      "   macro avg       1.00      1.00      1.00     16640\n",
      "weighted avg       1.00      1.00      1.00     16640\n",
      "\n"
     ]
    }
   ],
   "source": [
    "# classification report on training data\n",
    "classification_report_train_svc = classification_report(Y_train,X_train_prediction_svc)\n",
    "print(\"Classification Report on training data: \\n\", classification_report_train_svc)"
   ]
  },
  {
   "cell_type": "code",
   "execution_count": 33,
   "id": "088ded09-060b-4aea-87a0-026e2c158b27",
   "metadata": {},
   "outputs": [
    {
     "name": "stdout",
     "output_type": "stream",
     "text": [
      "Classification Report on training data: \n",
      "               precision    recall  f1-score   support\n",
      "\n",
      "           0       0.97      0.97      0.97      2077\n",
      "           1       0.97      0.97      0.97      2083\n",
      "\n",
      "    accuracy                           0.97      4160\n",
      "   macro avg       0.97      0.97      0.97      4160\n",
      "weighted avg       0.97      0.97      0.97      4160\n",
      "\n"
     ]
    }
   ],
   "source": [
    "# classification report on testing data\n",
    "classification_report_test_svc = classification_report(Y_test,X_test_prediction_svc)\n",
    "print(\"Classification Report on training data: \\n\", classification_report_test_svc)"
   ]
  },
  {
   "cell_type": "code",
   "execution_count": 34,
   "id": "cc0631e9-bd24-406b-ad36-5b1017e4f05a",
   "metadata": {},
   "outputs": [
    {
     "name": "stdout",
     "output_type": "stream",
     "text": [
      "[1]\n",
      "The news is Fake\n"
     ]
    }
   ],
   "source": [
    "# prediction\n",
    "X_new = X_test[0]\n",
    "\n",
    "prediction = svc_model.predict(X_new)\n",
    "print(prediction)\n",
    "\n",
    "if(prediction[0]==0):\n",
    "    print('The news is Real')\n",
    "else:\n",
    "    print('The news is Fake')"
   ]
  },
  {
   "cell_type": "markdown",
   "id": "abe4af9e-45e7-4d75-8f1d-0ef23fdf65d4",
   "metadata": {},
   "source": [
    "MultinomialNB"
   ]
  },
  {
   "cell_type": "code",
   "execution_count": 35,
   "id": "445dca08-56b0-4fdc-98e5-62a1d4353df1",
   "metadata": {},
   "outputs": [
    {
     "data": {
      "text/plain": [
       "MultinomialNB()"
      ]
     },
     "execution_count": 35,
     "metadata": {},
     "output_type": "execute_result"
    }
   ],
   "source": [
    "# training the model: MultinomialNB\n",
    "naive_model = MultinomialNB()\n",
    "naive_model.fit(X_train, Y_train)"
   ]
  },
  {
   "cell_type": "code",
   "execution_count": 36,
   "id": "eafba3fb-047c-477d-acb5-5be35e2522fe",
   "metadata": {},
   "outputs": [
    {
     "name": "stdout",
     "output_type": "stream",
     "text": [
      "Accuracy Score:  0.8837740384615385\n"
     ]
    }
   ],
   "source": [
    "# accuracy score on training data for SVC\n",
    "X_train_prediction_naive = naive_model.predict(X_train)\n",
    "training_data_accuracy_naive = accuracy_score(X_train_prediction_naive, Y_train)\n",
    "print('Accuracy Score: ', training_data_accuracy_naive)"
   ]
  },
  {
   "cell_type": "code",
   "execution_count": 37,
   "id": "91d7fe70-ead6-4d3c-89fb-a07dbc779b29",
   "metadata": {},
   "outputs": [
    {
     "name": "stdout",
     "output_type": "stream",
     "text": [
      "Accuracy Score:  0.8463942307692308\n"
     ]
    }
   ],
   "source": [
    "# accuracy score on testing data for SVC\n",
    "X_test_prediction_naive = naive_model.predict(X_test)\n",
    "testing_data_accuracy_naive = accuracy_score(X_test_prediction_naive, Y_test)\n",
    "print('Accuracy Score: ', testing_data_accuracy_naive)"
   ]
  },
  {
   "cell_type": "code",
   "execution_count": 38,
   "id": "fb5bc37d-f0f2-46c6-82b2-6ce55409ea7c",
   "metadata": {},
   "outputs": [
    {
     "name": "stdout",
     "output_type": "stream",
     "text": [
      "[[8290   20]\n",
      " [1914 6416]]\n"
     ]
    },
    {
     "name": "stderr",
     "output_type": "stream",
     "text": [
      "E:\\Ismt\\AI\\FakeNews\\venv\\lib\\site-packages\\sklearn\\utils\\deprecation.py:87: FutureWarning: Function plot_confusion_matrix is deprecated; Function `plot_confusion_matrix` is deprecated in 1.0 and will be removed in 1.2. Use one of the class methods: ConfusionMatrixDisplay.from_predictions or ConfusionMatrixDisplay.from_estimator.\n",
      "  warnings.warn(msg, category=FutureWarning)\n"
     ]
    },
    {
     "data": {
      "text/plain": [
       "<sklearn.metrics._plot.confusion_matrix.ConfusionMatrixDisplay at 0x22f58fbe1c0>"
      ]
     },
     "execution_count": 38,
     "metadata": {},
     "output_type": "execute_result"
    },
    {
     "data": {
      "image/png": "[encoded data removed]",
      "text/plain": [
       "<Figure size 432x288 with 2 Axes>"
      ]
     },
     "metadata": {
      "needs_background": "light"
     },
     "output_type": "display_data"
    }
   ],
   "source": [
    "# confusion matrix on training data\n",
    "confusion_matrix_score_train_naive = confusion_matrix(Y_train, X_train_prediction_naive)\n",
    "print(confusion_matrix_score_train_naive)\n",
    "plot_confusion_matrix(naive_model, X_train, Y_train)"
   ]
  },
  {
   "cell_type": "code",
   "execution_count": 39,
   "id": "b53c6e49-bfde-4ade-8876-f5c4e73b9745",
   "metadata": {},
   "outputs": [
    {
     "name": "stdout",
     "output_type": "stream",
     "text": [
      "[[2068    9]\n",
      " [ 630 1453]]\n"
     ]
    },
    {
     "name": "stderr",
     "output_type": "stream",
     "text": [
      "E:\\Ismt\\AI\\FakeNews\\venv\\lib\\site-packages\\sklearn\\utils\\deprecation.py:87: FutureWarning: Function plot_confusion_matrix is deprecated; Function `plot_confusion_matrix` is deprecated in 1.0 and will be removed in 1.2. Use one of the class methods: ConfusionMatrixDisplay.from_predictions or ConfusionMatrixDisplay.from_estimator.\n",
      "  warnings.warn(msg, category=FutureWarning)\n"
     ]
    },
    {
     "data": {
      "text/plain": [
       "<sklearn.metrics._plot.confusion_matrix.ConfusionMatrixDisplay at 0x22f5905a460>"
      ]
     },
     "execution_count": 39,
     "metadata": {},
     "output_type": "execute_result"
    },
    {
     "data": {
      "image/png": "[encoded data removed]",
      "text/plain": [
       "<Figure size 432x288 with 2 Axes>"
      ]
     },
     "metadata": {
      "needs_background": "light"
     },
     "output_type": "display_data"
    }
   ],
   "source": [
    "# confusion matrix on testing data\n",
    "confusion_matrix_score_test_naive = confusion_matrix(Y_test, X_test_prediction_naive)\n",
    "print(confusion_matrix_score_test_naive)\n",
    "plot_confusion_matrix(naive_model, X_test, Y_test)"
   ]
  },
  {
   "cell_type": "code",
   "execution_count": 40,
   "id": "1adbe055-ddb6-4e33-b2c7-1c08f82aa16c",
   "metadata": {},
   "outputs": [
    {
     "name": "stdout",
     "output_type": "stream",
     "text": [
      "Precision Score on training data:  0.9968924798011187\n",
      "Recall Score on training data:  0.7702280912364946\n"
     ]
    }
   ],
   "source": [
    "# precision and recall score on training data\n",
    "precision_score_train_naive = precision_score(Y_train, X_train_prediction_naive)\n",
    "recall_score_train_naive = recall_score(Y_train, X_train_prediction_naive)\n",
    "print(\"Precision Score on training data: \", precision_score_train_naive)\n",
    "print(\"Recall Score on training data: \", recall_score_train_naive)"
   ]
  },
  {
   "cell_type": "code",
   "execution_count": 41,
   "id": "e1cceaad-e88d-4b62-8d8b-19a7daeaba3b",
   "metadata": {},
   "outputs": [
    {
     "name": "stdout",
     "output_type": "stream",
     "text": [
      "Precision Score on testing data:  0.993844049247606\n",
      "Recall Score on testing data:  0.6975516082573212\n"
     ]
    }
   ],
   "source": [
    "# precision and recall score on testing data\n",
    "precision_score_test_naive = precision_score(Y_test, X_test_prediction_naive)\n",
    "recall_score_test_naive = recall_score(Y_test, X_test_prediction_naive)\n",
    "print(\"Precision Score on testing data: \", precision_score_test_naive)\n",
    "print(\"Recall Score on testing data: \", recall_score_test_naive)"
   ]
  },
  {
   "cell_type": "code",
   "execution_count": 42,
   "id": "67843e52-0a7e-46ee-978b-de42e7736ffa",
   "metadata": {},
   "outputs": [
    {
     "name": "stdout",
     "output_type": "stream",
     "text": [
      "Classification Report on training data: \n",
      "               precision    recall  f1-score   support\n",
      "\n",
      "           0       0.81      1.00      0.90      8310\n",
      "           1       1.00      0.77      0.87      8330\n",
      "\n",
      "    accuracy                           0.88     16640\n",
      "   macro avg       0.90      0.88      0.88     16640\n",
      "weighted avg       0.90      0.88      0.88     16640\n",
      "\n"
     ]
    }
   ],
   "source": [
    "# classification report on training data\n",
    "classification_report_train_naive = classification_report(Y_train,X_train_prediction_naive)\n",
    "print(\"Classification Report on training data: \\n\", classification_report_train_naive)"
   ]
  },
  {
   "cell_type": "code",
   "execution_count": 43,
   "id": "e2b5b7b9-b6c3-4e68-954c-30b0d4ac63e1",
   "metadata": {},
   "outputs": [
    {
     "name": "stdout",
     "output_type": "stream",
     "text": [
      "Classification Report on training data: \n",
      "               precision    recall  f1-score   support\n",
      "\n",
      "           0       0.77      1.00      0.87      2077\n",
      "           1       0.99      0.70      0.82      2083\n",
      "\n",
      "    accuracy                           0.85      4160\n",
      "   macro avg       0.88      0.85      0.84      4160\n",
      "weighted avg       0.88      0.85      0.84      4160\n",
      "\n"
     ]
    }
   ],
   "source": [
    "# classification report on testing data\n",
    "classification_report_test_naive = classification_report(Y_test,X_test_prediction_naive)\n",
    "print(\"Classification Report on training data: \\n\", classification_report_test_naive)"
   ]
  },
  {
   "cell_type": "code",
   "execution_count": 44,
   "id": "ef081d8f-5dd0-4337-a158-2de5c334ff91",
   "metadata": {},
   "outputs": [
    {
     "name": "stdout",
     "output_type": "stream",
     "text": [
      "[0]\n",
      "The news is Real\n"
     ]
    }
   ],
   "source": [
    "# prediction\n",
    "X_new = X_test[3]\n",
    "\n",
    "prediction = naive_model.predict(X_new)\n",
    "print(prediction)\n",
    "\n",
    "if(prediction[0]==0):\n",
    "    print('The news is Real')\n",
    "else:\n",
    "    print('The news is Fake')"
   ]
  },
  {
   "cell_type": "code",
   "execution_count": null,
   "id": "611c6eaa-1b5e-4c1f-a18b-47fc7a4967a4",
   "metadata": {},
   "outputs": [],
   "source": []
  }
 ],
 "metadata": {
  "kernelspec": {
   "display_name": "Python 3 (ipykernel)",
   "language": "python",
   "name": "python3"
  },
  "language_info": {
   "codemirror_mode": {
    "name": "ipython",
    "version": 3
   },
   "file_extension": ".py",
   "mimetype": "text/x-python",
   "name": "python",
   "nbconvert_exporter": "python",
   "pygments_lexer": "ipython3",
   "version": "3.9.7"
  }
 },
 "nbformat": 4,
 "nbformat_minor": 5
}
